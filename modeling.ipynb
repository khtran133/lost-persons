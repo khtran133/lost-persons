{
 "cells": [
  {
   "cell_type": "markdown",
   "id": "2eb85dfa-6fd6-4827-8c81-bef6dff74b7e",
   "metadata": {},
   "source": [
    "# Finalizing Data for Modeling"
   ]
  },
  {
   "cell_type": "code",
   "execution_count": 7,
   "id": "b6a43fc7-dcb5-4e49-9a01-97aa6b8c1acb",
   "metadata": {},
   "outputs": [],
   "source": [
    "import astral, datetime as dt, graphviz, json, math, matplotlib.pyplot as plt, \\\n",
    "       missingno as msno, multiprocessing, numpy as np, os, pandas as pd, \\\n",
    "       regex as re, requests, seaborn as sns, xgboost as xgb\n",
    "\n",
    "from astral                  import LocationInfo, moon\n",
    "from astral.sun              import sun\n",
    "from datetime                import datetime, timedelta\n",
    "from functools               import reduce\n",
    "from joblib                  import Parallel, delayed\n",
    "from scipy.stats             import randint, uniform\n",
    "from sklearn.ensemble        import ExtraTreesRegressor, RandomForestClassifier, \\\n",
    "                                    RandomForestRegressor\n",
    "from sklearn.experimental    import enable_iterative_imputer\n",
    "from sklearn.impute          import IterativeImputer, KNNImputer, \\\n",
    "                                    MissingIndicator, SimpleImputer\n",
    "from sklearn.linear_model    import BayesianRidge, SGDRegressor\n",
    "from sklearn.metrics         import accuracy_score, f1_score, make_scorer, \\\n",
    "                                    mean_absolute_error, mean_squared_error, \\\n",
    "                                    precision_score, r2_score, recall_score, \\\n",
    "                                    roc_auc_score\n",
    "from sklearn.neighbors       import KNeighborsRegressor\n",
    "from sklearn.model_selection import cross_val_score, GridSearchCV, \\\n",
    "                                    RandomizedSearchCV, StratifiedKFold, \\\n",
    "                                    train_test_split\n",
    "from sklearn.pipeline        import FeatureUnion, make_pipeline\n",
    "from sklearn.preprocessing   import LabelEncoder, StandardScaler\n",
    "from sklearn.tree            import DecisionTreeRegressor\n",
    "from tqdm.auto               import tqdm\n",
    "from tune_sklearn            import TuneSearchCV, TuneGridSearchCV\n",
    "\n",
    "## for progress bars\n",
    "tqdm.pandas()\n",
    "## use regex to find latest iteration of files\n",
    "def latest_file(filename, prefix_path = 'Data/New Data', filetype = 'csv'):\n",
    "    file_re = r'^' + filename + '_\\d{4}\\-\\d{2}\\-\\d{2}\\.' + filetype + '$'\n",
    "    data_file_path = list(sorted([i for i in os.listdir(prefix_path) \\\n",
    "                                  if re.match(file_re, i)]))[-1]\n",
    "    return prefix_path + '/' + data_file_path\n",
    "output_str = 'Data/New Data/{}_{}.csv'\n",
    "curr_date  = datetime.now().strftime('%Y-%m-%d')"
   ]
  },
  {
   "cell_type": "code",
   "execution_count": 8,
   "id": "136ba426-9297-4f7e-ad4e-19284545363d",
   "metadata": {},
   "outputs": [
    {
     "data": {
      "application/vnd.jupyter.widget-view+json": {
       "model_id": "a236d51cb71a439e94faa5904d9d9343",
       "version_major": 2,
       "version_minor": 0
      },
      "text/plain": [
       "  0%|          | 0/6006 [00:00<?, ?it/s]"
      ]
     },
     "metadata": {},
     "output_type": "display_data"
    },
    {
     "data": {
      "text/html": [
       "<style type=\"text/css\">\n",
       "#T_96fb3_row0_col0, #T_96fb3_row0_col1, #T_96fb3_row0_col2, #T_96fb3_row0_col3, #T_96fb3_row0_col4, #T_96fb3_row0_col5, #T_96fb3_row0_col6, #T_96fb3_row0_col7, #T_96fb3_row0_col8, #T_96fb3_row0_col9, #T_96fb3_row0_col12, #T_96fb3_row0_col17, #T_96fb3_row0_col22, #T_96fb3_row0_col23, #T_96fb3_row0_col24, #T_96fb3_row0_col25, #T_96fb3_row0_col29, #T_96fb3_row1_col1, #T_96fb3_row1_col2, #T_96fb3_row1_col4, #T_96fb3_row1_col5, #T_96fb3_row1_col6, #T_96fb3_row1_col7, #T_96fb3_row1_col8, #T_96fb3_row1_col9, #T_96fb3_row1_col12, #T_96fb3_row1_col17, #T_96fb3_row1_col22, #T_96fb3_row1_col23, #T_96fb3_row1_col24, #T_96fb3_row1_col25, #T_96fb3_row1_col27, #T_96fb3_row1_col29, #T_96fb3_row2_col1, #T_96fb3_row2_col2, #T_96fb3_row2_col3, #T_96fb3_row2_col4, #T_96fb3_row2_col6, #T_96fb3_row2_col7, #T_96fb3_row2_col8, #T_96fb3_row2_col9, #T_96fb3_row2_col11, #T_96fb3_row2_col12, #T_96fb3_row2_col13, #T_96fb3_row2_col17, #T_96fb3_row2_col22, #T_96fb3_row2_col23, #T_96fb3_row2_col24, #T_96fb3_row2_col25, #T_96fb3_row2_col29, #T_96fb3_row3_col1, #T_96fb3_row3_col3, #T_96fb3_row3_col4, #T_96fb3_row3_col5, #T_96fb3_row3_col6, #T_96fb3_row3_col7, #T_96fb3_row3_col8, #T_96fb3_row3_col9, #T_96fb3_row3_col11, #T_96fb3_row3_col12, #T_96fb3_row3_col13, #T_96fb3_row3_col17, #T_96fb3_row3_col22, #T_96fb3_row3_col23, #T_96fb3_row3_col24, #T_96fb3_row3_col25, #T_96fb3_row3_col29, #T_96fb3_row4_col1, #T_96fb3_row4_col2, #T_96fb3_row4_col3, #T_96fb3_row4_col4, #T_96fb3_row4_col6, #T_96fb3_row4_col7, #T_96fb3_row4_col8, #T_96fb3_row4_col9, #T_96fb3_row4_col11, #T_96fb3_row4_col12, #T_96fb3_row4_col16, #T_96fb3_row4_col17, #T_96fb3_row4_col18, #T_96fb3_row4_col22, #T_96fb3_row4_col23, #T_96fb3_row4_col24, #T_96fb3_row4_col25, #T_96fb3_row4_col29, #T_96fb3_row5_col1, #T_96fb3_row5_col2, #T_96fb3_row5_col3, #T_96fb3_row5_col4, #T_96fb3_row5_col6, #T_96fb3_row5_col7, #T_96fb3_row5_col8, #T_96fb3_row5_col9, #T_96fb3_row5_col11, #T_96fb3_row5_col12, #T_96fb3_row5_col16, #T_96fb3_row5_col17, #T_96fb3_row5_col18, #T_96fb3_row5_col22, #T_96fb3_row5_col23, #T_96fb3_row5_col24, #T_96fb3_row5_col25, #T_96fb3_row5_col29, #T_96fb3_row6_col1, #T_96fb3_row6_col2, #T_96fb3_row6_col3, #T_96fb3_row6_col4, #T_96fb3_row6_col5, #T_96fb3_row6_col6, #T_96fb3_row6_col7, #T_96fb3_row6_col8, #T_96fb3_row6_col9, #T_96fb3_row6_col12, #T_96fb3_row6_col17, #T_96fb3_row6_col20, #T_96fb3_row6_col22, #T_96fb3_row6_col23, #T_96fb3_row6_col24, #T_96fb3_row6_col25, #T_96fb3_row6_col29, #T_96fb3_row7_col1, #T_96fb3_row7_col3, #T_96fb3_row7_col4, #T_96fb3_row7_col5, #T_96fb3_row7_col6, #T_96fb3_row7_col7, #T_96fb3_row7_col8, #T_96fb3_row7_col9, #T_96fb3_row7_col12, #T_96fb3_row7_col17, #T_96fb3_row7_col22, #T_96fb3_row7_col23, #T_96fb3_row7_col24, #T_96fb3_row7_col25, #T_96fb3_row7_col29, #T_96fb3_row8_col1, #T_96fb3_row8_col2, #T_96fb3_row8_col3, #T_96fb3_row8_col4, #T_96fb3_row8_col6, #T_96fb3_row8_col7, #T_96fb3_row8_col8, #T_96fb3_row8_col9, #T_96fb3_row8_col12, #T_96fb3_row8_col17, #T_96fb3_row8_col22, #T_96fb3_row8_col23, #T_96fb3_row8_col24, #T_96fb3_row8_col25, #T_96fb3_row8_col29, #T_96fb3_row9_col1, #T_96fb3_row9_col2, #T_96fb3_row9_col4, #T_96fb3_row9_col5, #T_96fb3_row9_col6, #T_96fb3_row9_col7, #T_96fb3_row9_col8, #T_96fb3_row9_col9, #T_96fb3_row9_col10, #T_96fb3_row9_col11, #T_96fb3_row9_col12, #T_96fb3_row9_col17, #T_96fb3_row9_col19, #T_96fb3_row9_col21, #T_96fb3_row9_col22, #T_96fb3_row9_col24, #T_96fb3_row9_col25, #T_96fb3_row9_col28, #T_96fb3_row9_col29 {\n",
       "  background-color: #fff7fb;\n",
       "  color: #000000;\n",
       "}\n",
       "#T_96fb3_row0_col10, #T_96fb3_row5_col10, #T_96fb3_row6_col10 {\n",
       "  background-color: #000000;\n",
       "  color: #f1f1f1;\n",
       "}\n",
       "#T_96fb3_row0_col11, #T_96fb3_row1_col3, #T_96fb3_row1_col11, #T_96fb3_row2_col5, #T_96fb3_row2_col10, #T_96fb3_row2_col28, #T_96fb3_row3_col2, #T_96fb3_row4_col5, #T_96fb3_row5_col5, #T_96fb3_row5_col27, #T_96fb3_row6_col11, #T_96fb3_row6_col16, #T_96fb3_row6_col18, #T_96fb3_row7_col2, #T_96fb3_row7_col11, #T_96fb3_row8_col5, #T_96fb3_row8_col11, #T_96fb3_row8_col19, #T_96fb3_row8_col20, #T_96fb3_row8_col21, #T_96fb3_row9_col0, #T_96fb3_row9_col3, #T_96fb3_row9_col13, #T_96fb3_row9_col23 {\n",
       "  background-color: #023858;\n",
       "  color: #f1f1f1;\n",
       "}\n",
       "#T_96fb3_row0_col13, #T_96fb3_row6_col13 {\n",
       "  background-color: #faf3f9;\n",
       "  color: #000000;\n",
       "}\n",
       "#T_96fb3_row0_col16, #T_96fb3_row0_col18 {\n",
       "  background-color: #b3c3de;\n",
       "  color: #000000;\n",
       "}\n",
       "#T_96fb3_row0_col19, #T_96fb3_row0_col21, #T_96fb3_row4_col19, #T_96fb3_row4_col21, #T_96fb3_row5_col19, #T_96fb3_row5_col21 {\n",
       "  background-color: #034267;\n",
       "  color: #f1f1f1;\n",
       "}\n",
       "#T_96fb3_row0_col20 {\n",
       "  background-color: #0569a5;\n",
       "  color: #f1f1f1;\n",
       "}\n",
       "#T_96fb3_row0_col27 {\n",
       "  background-color: #b7c5df;\n",
       "  color: #000000;\n",
       "}\n",
       "#T_96fb3_row0_col28 {\n",
       "  background-color: #045d92;\n",
       "  color: #f1f1f1;\n",
       "}\n",
       "#T_96fb3_row1_col0 {\n",
       "  background-color: #63a2cb;\n",
       "  color: #f1f1f1;\n",
       "}\n",
       "#T_96fb3_row1_col10, #T_96fb3_row1_col28, #T_96fb3_row7_col16, #T_96fb3_row7_col18 {\n",
       "  background-color: #2685bb;\n",
       "  color: #f1f1f1;\n",
       "}\n",
       "#T_96fb3_row1_col13, #T_96fb3_row6_col28, #T_96fb3_row7_col13, #T_96fb3_row8_col13 {\n",
       "  background-color: #045c90;\n",
       "  color: #f1f1f1;\n",
       "}\n",
       "#T_96fb3_row1_col16, #T_96fb3_row1_col18 {\n",
       "  background-color: #dddbec;\n",
       "  color: #000000;\n",
       "}\n",
       "#T_96fb3_row1_col19, #T_96fb3_row1_col21 {\n",
       "  background-color: #045b8e;\n",
       "  color: #f1f1f1;\n",
       "}\n",
       "#T_96fb3_row1_col20 {\n",
       "  background-color: #045687;\n",
       "  color: #f1f1f1;\n",
       "}\n",
       "#T_96fb3_row2_col0 {\n",
       "  background-color: #034f7d;\n",
       "  color: #f1f1f1;\n",
       "}\n",
       "#T_96fb3_row2_col16, #T_96fb3_row2_col18 {\n",
       "  background-color: #73a9cf;\n",
       "  color: #f1f1f1;\n",
       "}\n",
       "#T_96fb3_row2_col19, #T_96fb3_row2_col21, #T_96fb3_row3_col19, #T_96fb3_row3_col21 {\n",
       "  background-color: #046299;\n",
       "  color: #f1f1f1;\n",
       "}\n",
       "#T_96fb3_row2_col20, #T_96fb3_row4_col20, #T_96fb3_row5_col20, #T_96fb3_row8_col0 {\n",
       "  background-color: #348ebf;\n",
       "  color: #f1f1f1;\n",
       "}\n",
       "#T_96fb3_row2_col27 {\n",
       "  background-color: #2c89bd;\n",
       "  color: #f1f1f1;\n",
       "}\n",
       "#T_96fb3_row3_col0 {\n",
       "  background-color: #e8e4f0;\n",
       "  color: #000000;\n",
       "}\n",
       "#T_96fb3_row3_col10 {\n",
       "  background-color: #f1ebf5;\n",
       "  color: #000000;\n",
       "}\n",
       "#T_96fb3_row3_col16, #T_96fb3_row3_col18 {\n",
       "  background-color: #96b6d7;\n",
       "  color: #000000;\n",
       "}\n",
       "#T_96fb3_row3_col20 {\n",
       "  background-color: #2484ba;\n",
       "  color: #f1f1f1;\n",
       "}\n",
       "#T_96fb3_row3_col27 {\n",
       "  background-color: #3d93c2;\n",
       "  color: #f1f1f1;\n",
       "}\n",
       "#T_96fb3_row3_col28 {\n",
       "  background-color: #023c5f;\n",
       "  color: #f1f1f1;\n",
       "}\n",
       "#T_96fb3_row4_col0 {\n",
       "  background-color: #056aa6;\n",
       "  color: #f1f1f1;\n",
       "}\n",
       "#T_96fb3_row4_col10 {\n",
       "  background-color: #b0c2de;\n",
       "  color: #000000;\n",
       "}\n",
       "#T_96fb3_row4_col13, #T_96fb3_row9_col20 {\n",
       "  background-color: #fbf3f9;\n",
       "  color: #000000;\n",
       "}\n",
       "#T_96fb3_row4_col27 {\n",
       "  background-color: #056ba9;\n",
       "  color: #f1f1f1;\n",
       "}\n",
       "#T_96fb3_row4_col28 {\n",
       "  background-color: #a9bfdc;\n",
       "  color: #000000;\n",
       "}\n",
       "#T_96fb3_row5_col0 {\n",
       "  background-color: #84b0d3;\n",
       "  color: #f1f1f1;\n",
       "}\n",
       "#T_96fb3_row5_col13 {\n",
       "  background-color: #f5eff6;\n",
       "  color: #000000;\n",
       "}\n",
       "#T_96fb3_row5_col28 {\n",
       "  background-color: #d2d3e7;\n",
       "  color: #000000;\n",
       "}\n",
       "#T_96fb3_row6_col0 {\n",
       "  background-color: #2a88bc;\n",
       "  color: #f1f1f1;\n",
       "}\n",
       "#T_96fb3_row6_col19, #T_96fb3_row6_col21 {\n",
       "  background-color: #faf2f8;\n",
       "  color: #000000;\n",
       "}\n",
       "#T_96fb3_row6_col27 {\n",
       "  background-color: #b4c4df;\n",
       "  color: #000000;\n",
       "}\n",
       "#T_96fb3_row7_col0 {\n",
       "  background-color: #e6e2ef;\n",
       "  color: #000000;\n",
       "}\n",
       "#T_96fb3_row7_col10 {\n",
       "  background-color: #045e94;\n",
       "  color: #f1f1f1;\n",
       "}\n",
       "#T_96fb3_row7_col19 {\n",
       "  background-color: #197db7;\n",
       "  color: #f1f1f1;\n",
       "}\n",
       "#T_96fb3_row7_col20 {\n",
       "  background-color: #509ac6;\n",
       "  color: #f1f1f1;\n",
       "}\n",
       "#T_96fb3_row7_col21 {\n",
       "  background-color: #b5c4df;\n",
       "  color: #000000;\n",
       "}\n",
       "#T_96fb3_row7_col27 {\n",
       "  background-color: #f5eef6;\n",
       "  color: #000000;\n",
       "}\n",
       "#T_96fb3_row7_col28 {\n",
       "  background-color: #04588a;\n",
       "  color: #f1f1f1;\n",
       "}\n",
       "#T_96fb3_row8_col10 {\n",
       "  background-color: #abbfdc;\n",
       "  color: #000000;\n",
       "}\n",
       "#T_96fb3_row8_col16, #T_96fb3_row8_col18 {\n",
       "  background-color: #eee9f3;\n",
       "  color: #000000;\n",
       "}\n",
       "#T_96fb3_row8_col27 {\n",
       "  background-color: #ede8f3;\n",
       "  color: #000000;\n",
       "}\n",
       "#T_96fb3_row8_col28 {\n",
       "  background-color: #03466e;\n",
       "  color: #f1f1f1;\n",
       "}\n",
       "#T_96fb3_row9_col16, #T_96fb3_row9_col18 {\n",
       "  background-color: #c6cce3;\n",
       "  color: #000000;\n",
       "}\n",
       "#T_96fb3_row9_col27 {\n",
       "  background-color: #04629a;\n",
       "  color: #f1f1f1;\n",
       "}\n",
       "</style>\n",
       "<table id=\"T_96fb3_\">\n",
       "  <thead>\n",
       "    <tr>\n",
       "      <th class=\"blank level0\" >&nbsp;</th>\n",
       "      <th class=\"col_heading level0 col0\" >age</th>\n",
       "      <th class=\"col_heading level0 col1\" >cat_animal</th>\n",
       "      <th class=\"col_heading level0 col2\" >cat_child</th>\n",
       "      <th class=\"col_heading level0 col3\" >cat_health</th>\n",
       "      <th class=\"col_heading level0 col4\" >cat_missingrunaway</th>\n",
       "      <th class=\"col_heading level0 col5\" >cat_outdoors</th>\n",
       "      <th class=\"col_heading level0 col6\" >cat_overdue</th>\n",
       "      <th class=\"col_heading level0 col7\" >cat_vehicle</th>\n",
       "      <th class=\"col_heading level0 col8\" >cat_water</th>\n",
       "      <th class=\"col_heading level0 col9\" >cat_work</th>\n",
       "      <th class=\"col_heading level0 col10\" >dist_mi</th>\n",
       "      <th class=\"col_heading level0 col11\" >eco_div</th>\n",
       "      <th class=\"col_heading level0 col12\" >outcome</th>\n",
       "      <th class=\"col_heading level0 col13\" >population_density</th>\n",
       "      <th class=\"col_heading level0 col14\" >state</th>\n",
       "      <th class=\"col_heading level0 col15\" >terrain</th>\n",
       "      <th class=\"col_heading level0 col16\" >total_hrs</th>\n",
       "      <th class=\"col_heading level0 col17\" >total_notify_hrs</th>\n",
       "      <th class=\"col_heading level0 col18\" >total_search_hrs</th>\n",
       "      <th class=\"col_heading level0 col19\" >temp_max</th>\n",
       "      <th class=\"col_heading level0 col20\" >temp_min</th>\n",
       "      <th class=\"col_heading level0 col21\" >temp_avg</th>\n",
       "      <th class=\"col_heading level0 col22\" >rain</th>\n",
       "      <th class=\"col_heading level0 col23\" >snow_depth</th>\n",
       "      <th class=\"col_heading level0 col24\" >year</th>\n",
       "      <th class=\"col_heading level0 col25\" >month</th>\n",
       "      <th class=\"col_heading level0 col26\" >season</th>\n",
       "      <th class=\"col_heading level0 col27\" >lat</th>\n",
       "      <th class=\"col_heading level0 col28\" >lon</th>\n",
       "      <th class=\"col_heading level0 col29\" >cat_night</th>\n",
       "    </tr>\n",
       "    <tr>\n",
       "      <th class=\"index_name level0\" >id</th>\n",
       "      <th class=\"blank col0\" >&nbsp;</th>\n",
       "      <th class=\"blank col1\" >&nbsp;</th>\n",
       "      <th class=\"blank col2\" >&nbsp;</th>\n",
       "      <th class=\"blank col3\" >&nbsp;</th>\n",
       "      <th class=\"blank col4\" >&nbsp;</th>\n",
       "      <th class=\"blank col5\" >&nbsp;</th>\n",
       "      <th class=\"blank col6\" >&nbsp;</th>\n",
       "      <th class=\"blank col7\" >&nbsp;</th>\n",
       "      <th class=\"blank col8\" >&nbsp;</th>\n",
       "      <th class=\"blank col9\" >&nbsp;</th>\n",
       "      <th class=\"blank col10\" >&nbsp;</th>\n",
       "      <th class=\"blank col11\" >&nbsp;</th>\n",
       "      <th class=\"blank col12\" >&nbsp;</th>\n",
       "      <th class=\"blank col13\" >&nbsp;</th>\n",
       "      <th class=\"blank col14\" >&nbsp;</th>\n",
       "      <th class=\"blank col15\" >&nbsp;</th>\n",
       "      <th class=\"blank col16\" >&nbsp;</th>\n",
       "      <th class=\"blank col17\" >&nbsp;</th>\n",
       "      <th class=\"blank col18\" >&nbsp;</th>\n",
       "      <th class=\"blank col19\" >&nbsp;</th>\n",
       "      <th class=\"blank col20\" >&nbsp;</th>\n",
       "      <th class=\"blank col21\" >&nbsp;</th>\n",
       "      <th class=\"blank col22\" >&nbsp;</th>\n",
       "      <th class=\"blank col23\" >&nbsp;</th>\n",
       "      <th class=\"blank col24\" >&nbsp;</th>\n",
       "      <th class=\"blank col25\" >&nbsp;</th>\n",
       "      <th class=\"blank col26\" >&nbsp;</th>\n",
       "      <th class=\"blank col27\" >&nbsp;</th>\n",
       "      <th class=\"blank col28\" >&nbsp;</th>\n",
       "      <th class=\"blank col29\" >&nbsp;</th>\n",
       "    </tr>\n",
       "  </thead>\n",
       "  <tbody>\n",
       "    <tr>\n",
       "      <th id=\"T_96fb3_level0_row0\" class=\"row_heading level0 row0\" >AZ00000</th>\n",
       "      <td id=\"T_96fb3_row0_col0\" class=\"data row0 col0\" >-9.234413</td>\n",
       "      <td id=\"T_96fb3_row0_col1\" class=\"data row0 col1\" >0</td>\n",
       "      <td id=\"T_96fb3_row0_col2\" class=\"data row0 col2\" >0</td>\n",
       "      <td id=\"T_96fb3_row0_col3\" class=\"data row0 col3\" >0</td>\n",
       "      <td id=\"T_96fb3_row0_col4\" class=\"data row0 col4\" >0</td>\n",
       "      <td id=\"T_96fb3_row0_col5\" class=\"data row0 col5\" >0</td>\n",
       "      <td id=\"T_96fb3_row0_col6\" class=\"data row0 col6\" >0</td>\n",
       "      <td id=\"T_96fb3_row0_col7\" class=\"data row0 col7\" >0</td>\n",
       "      <td id=\"T_96fb3_row0_col8\" class=\"data row0 col8\" >0</td>\n",
       "      <td id=\"T_96fb3_row0_col9\" class=\"data row0 col9\" >0</td>\n",
       "      <td id=\"T_96fb3_row0_col10\" class=\"data row0 col10\" >nan</td>\n",
       "      <td id=\"T_96fb3_row0_col11\" class=\"data row0 col11\" >320.000000</td>\n",
       "      <td id=\"T_96fb3_row0_col12\" class=\"data row0 col12\" >0.000000</td>\n",
       "      <td id=\"T_96fb3_row0_col13\" class=\"data row0 col13\" >11.800000</td>\n",
       "      <td id=\"T_96fb3_row0_col14\" class=\"data row0 col14\" >AZ</td>\n",
       "      <td id=\"T_96fb3_row0_col15\" class=\"data row0 col15\" >flat</td>\n",
       "      <td id=\"T_96fb3_row0_col16\" class=\"data row0 col16\" >7.083333</td>\n",
       "      <td id=\"T_96fb3_row0_col17\" class=\"data row0 col17\" >0.000000</td>\n",
       "      <td id=\"T_96fb3_row0_col18\" class=\"data row0 col18\" >7.083333</td>\n",
       "      <td id=\"T_96fb3_row0_col19\" class=\"data row0 col19\" >41.100000</td>\n",
       "      <td id=\"T_96fb3_row0_col20\" class=\"data row0 col20\" >17.800000</td>\n",
       "      <td id=\"T_96fb3_row0_col21\" class=\"data row0 col21\" >41.100000</td>\n",
       "      <td id=\"T_96fb3_row0_col22\" class=\"data row0 col22\" >0.000000</td>\n",
       "      <td id=\"T_96fb3_row0_col23\" class=\"data row0 col23\" >0.000000</td>\n",
       "      <td id=\"T_96fb3_row0_col24\" class=\"data row0 col24\" >2005.000000</td>\n",
       "      <td id=\"T_96fb3_row0_col25\" class=\"data row0 col25\" >7.000000</td>\n",
       "      <td id=\"T_96fb3_row0_col26\" class=\"data row0 col26\" >spring</td>\n",
       "      <td id=\"T_96fb3_row0_col27\" class=\"data row0 col27\" >32.711300</td>\n",
       "      <td id=\"T_96fb3_row0_col28\" class=\"data row0 col28\" >-109.584110</td>\n",
       "      <td id=\"T_96fb3_row0_col29\" class=\"data row0 col29\" >1.000000</td>\n",
       "    </tr>\n",
       "    <tr>\n",
       "      <th id=\"T_96fb3_level0_row1\" class=\"row_heading level0 row1\" >AZ00001</th>\n",
       "      <td id=\"T_96fb3_row1_col0\" class=\"data row1 col0\" >40.000000</td>\n",
       "      <td id=\"T_96fb3_row1_col1\" class=\"data row1 col1\" >0</td>\n",
       "      <td id=\"T_96fb3_row1_col2\" class=\"data row1 col2\" >0</td>\n",
       "      <td id=\"T_96fb3_row1_col3\" class=\"data row1 col3\" >1</td>\n",
       "      <td id=\"T_96fb3_row1_col4\" class=\"data row1 col4\" >0</td>\n",
       "      <td id=\"T_96fb3_row1_col5\" class=\"data row1 col5\" >0</td>\n",
       "      <td id=\"T_96fb3_row1_col6\" class=\"data row1 col6\" >0</td>\n",
       "      <td id=\"T_96fb3_row1_col7\" class=\"data row1 col7\" >0</td>\n",
       "      <td id=\"T_96fb3_row1_col8\" class=\"data row1 col8\" >0</td>\n",
       "      <td id=\"T_96fb3_row1_col9\" class=\"data row1 col9\" >0</td>\n",
       "      <td id=\"T_96fb3_row1_col10\" class=\"data row1 col10\" >7.762276</td>\n",
       "      <td id=\"T_96fb3_row1_col11\" class=\"data row1 col11\" >320.000000</td>\n",
       "      <td id=\"T_96fb3_row1_col12\" class=\"data row1 col12\" >0.000000</td>\n",
       "      <td id=\"T_96fb3_row1_col13\" class=\"data row1 col13\" >183.600000</td>\n",
       "      <td id=\"T_96fb3_row1_col14\" class=\"data row1 col14\" >AZ</td>\n",
       "      <td id=\"T_96fb3_row1_col15\" class=\"data row1 col15\" >flat</td>\n",
       "      <td id=\"T_96fb3_row1_col16\" class=\"data row1 col16\" >4.500000</td>\n",
       "      <td id=\"T_96fb3_row1_col17\" class=\"data row1 col17\" >0.000000</td>\n",
       "      <td id=\"T_96fb3_row1_col18\" class=\"data row1 col18\" >4.500000</td>\n",
       "      <td id=\"T_96fb3_row1_col19\" class=\"data row1 col19\" >38.300000</td>\n",
       "      <td id=\"T_96fb3_row1_col20\" class=\"data row1 col20\" >21.700000</td>\n",
       "      <td id=\"T_96fb3_row1_col21\" class=\"data row1 col21\" >38.300000</td>\n",
       "      <td id=\"T_96fb3_row1_col22\" class=\"data row1 col22\" >0.000000</td>\n",
       "      <td id=\"T_96fb3_row1_col23\" class=\"data row1 col23\" >0.000000</td>\n",
       "      <td id=\"T_96fb3_row1_col24\" class=\"data row1 col24\" >2005.000000</td>\n",
       "      <td id=\"T_96fb3_row1_col25\" class=\"data row1 col25\" >7.000000</td>\n",
       "      <td id=\"T_96fb3_row1_col26\" class=\"data row1 col26\" >spring</td>\n",
       "      <td id=\"T_96fb3_row1_col27\" class=\"data row1 col27\" >31.434933</td>\n",
       "      <td id=\"T_96fb3_row1_col28\" class=\"data row1 col28\" >-110.232333</td>\n",
       "      <td id=\"T_96fb3_row1_col29\" class=\"data row1 col29\" >1.000000</td>\n",
       "    </tr>\n",
       "    <tr>\n",
       "      <th id=\"T_96fb3_level0_row2\" class=\"row_heading level0 row2\" >AZ00002</th>\n",
       "      <td id=\"T_96fb3_row2_col0\" class=\"data row2 col0\" >75.000000</td>\n",
       "      <td id=\"T_96fb3_row2_col1\" class=\"data row2 col1\" >0</td>\n",
       "      <td id=\"T_96fb3_row2_col2\" class=\"data row2 col2\" >0</td>\n",
       "      <td id=\"T_96fb3_row2_col3\" class=\"data row2 col3\" >0</td>\n",
       "      <td id=\"T_96fb3_row2_col4\" class=\"data row2 col4\" >0</td>\n",
       "      <td id=\"T_96fb3_row2_col5\" class=\"data row2 col5\" >1</td>\n",
       "      <td id=\"T_96fb3_row2_col6\" class=\"data row2 col6\" >0</td>\n",
       "      <td id=\"T_96fb3_row2_col7\" class=\"data row2 col7\" >0</td>\n",
       "      <td id=\"T_96fb3_row2_col8\" class=\"data row2 col8\" >0</td>\n",
       "      <td id=\"T_96fb3_row2_col9\" class=\"data row2 col9\" >0</td>\n",
       "      <td id=\"T_96fb3_row2_col10\" class=\"data row2 col10\" >11.529114</td>\n",
       "      <td id=\"T_96fb3_row2_col11\" class=\"data row2 col11\" >310.000000</td>\n",
       "      <td id=\"T_96fb3_row2_col12\" class=\"data row2 col12\" >0.000000</td>\n",
       "      <td id=\"T_96fb3_row2_col13\" class=\"data row2 col13\" >5.000000</td>\n",
       "      <td id=\"T_96fb3_row2_col14\" class=\"data row2 col14\" >AZ</td>\n",
       "      <td id=\"T_96fb3_row2_col15\" class=\"data row2 col15\" >mountain</td>\n",
       "      <td id=\"T_96fb3_row2_col16\" class=\"data row2 col16\" >10.000000</td>\n",
       "      <td id=\"T_96fb3_row2_col17\" class=\"data row2 col17\" >0.000000</td>\n",
       "      <td id=\"T_96fb3_row2_col18\" class=\"data row2 col18\" >10.000000</td>\n",
       "      <td id=\"T_96fb3_row2_col19\" class=\"data row2 col19\" >37.200000</td>\n",
       "      <td id=\"T_96fb3_row2_col20\" class=\"data row2 col20\" >11.700000</td>\n",
       "      <td id=\"T_96fb3_row2_col21\" class=\"data row2 col21\" >37.200000</td>\n",
       "      <td id=\"T_96fb3_row2_col22\" class=\"data row2 col22\" >0.000000</td>\n",
       "      <td id=\"T_96fb3_row2_col23\" class=\"data row2 col23\" >0.000000</td>\n",
       "      <td id=\"T_96fb3_row2_col24\" class=\"data row2 col24\" >2005.000000</td>\n",
       "      <td id=\"T_96fb3_row2_col25\" class=\"data row2 col25\" >7.000000</td>\n",
       "      <td id=\"T_96fb3_row2_col26\" class=\"data row2 col26\" >spring</td>\n",
       "      <td id=\"T_96fb3_row2_col27\" class=\"data row2 col27\" >33.971817</td>\n",
       "      <td id=\"T_96fb3_row2_col28\" class=\"data row2 col28\" >-109.095033</td>\n",
       "      <td id=\"T_96fb3_row2_col29\" class=\"data row2 col29\" >1.000000</td>\n",
       "    </tr>\n",
       "    <tr>\n",
       "      <th id=\"T_96fb3_level0_row3\" class=\"row_heading level0 row3\" >AZ00003</th>\n",
       "      <td id=\"T_96fb3_row3_col0\" class=\"data row3 col0\" >4.000000</td>\n",
       "      <td id=\"T_96fb3_row3_col1\" class=\"data row3 col1\" >0</td>\n",
       "      <td id=\"T_96fb3_row3_col2\" class=\"data row3 col2\" >1</td>\n",
       "      <td id=\"T_96fb3_row3_col3\" class=\"data row3 col3\" >0</td>\n",
       "      <td id=\"T_96fb3_row3_col4\" class=\"data row3 col4\" >0</td>\n",
       "      <td id=\"T_96fb3_row3_col5\" class=\"data row3 col5\" >0</td>\n",
       "      <td id=\"T_96fb3_row3_col6\" class=\"data row3 col6\" >0</td>\n",
       "      <td id=\"T_96fb3_row3_col7\" class=\"data row3 col7\" >0</td>\n",
       "      <td id=\"T_96fb3_row3_col8\" class=\"data row3 col8\" >0</td>\n",
       "      <td id=\"T_96fb3_row3_col9\" class=\"data row3 col9\" >0</td>\n",
       "      <td id=\"T_96fb3_row3_col10\" class=\"data row3 col10\" >1.268968</td>\n",
       "      <td id=\"T_96fb3_row3_col11\" class=\"data row3 col11\" >310.000000</td>\n",
       "      <td id=\"T_96fb3_row3_col12\" class=\"data row3 col12\" >0.000000</td>\n",
       "      <td id=\"T_96fb3_row3_col13\" class=\"data row3 col13\" >5.000000</td>\n",
       "      <td id=\"T_96fb3_row3_col14\" class=\"data row3 col14\" >AZ</td>\n",
       "      <td id=\"T_96fb3_row3_col15\" class=\"data row3 col15\" >mountain</td>\n",
       "      <td id=\"T_96fb3_row3_col16\" class=\"data row3 col16\" >8.500000</td>\n",
       "      <td id=\"T_96fb3_row3_col17\" class=\"data row3 col17\" >0.000000</td>\n",
       "      <td id=\"T_96fb3_row3_col18\" class=\"data row3 col18\" >8.500000</td>\n",
       "      <td id=\"T_96fb3_row3_col19\" class=\"data row3 col19\" >37.200000</td>\n",
       "      <td id=\"T_96fb3_row3_col20\" class=\"data row3 col20\" >13.300000</td>\n",
       "      <td id=\"T_96fb3_row3_col21\" class=\"data row3 col21\" >37.200000</td>\n",
       "      <td id=\"T_96fb3_row3_col22\" class=\"data row3 col22\" >0.000000</td>\n",
       "      <td id=\"T_96fb3_row3_col23\" class=\"data row3 col23\" >0.000000</td>\n",
       "      <td id=\"T_96fb3_row3_col24\" class=\"data row3 col24\" >2005.000000</td>\n",
       "      <td id=\"T_96fb3_row3_col25\" class=\"data row3 col25\" >7.000000</td>\n",
       "      <td id=\"T_96fb3_row3_col26\" class=\"data row3 col26\" >spring</td>\n",
       "      <td id=\"T_96fb3_row3_col27\" class=\"data row3 col27\" >33.821200</td>\n",
       "      <td id=\"T_96fb3_row3_col28\" class=\"data row3 col28\" >-109.149183</td>\n",
       "      <td id=\"T_96fb3_row3_col29\" class=\"data row3 col29\" >1.000000</td>\n",
       "    </tr>\n",
       "    <tr>\n",
       "      <th id=\"T_96fb3_level0_row4\" class=\"row_heading level0 row4\" >AZ00004</th>\n",
       "      <td id=\"T_96fb3_row4_col0\" class=\"data row4 col0\" >63.000000</td>\n",
       "      <td id=\"T_96fb3_row4_col1\" class=\"data row4 col1\" >0</td>\n",
       "      <td id=\"T_96fb3_row4_col2\" class=\"data row4 col2\" >0</td>\n",
       "      <td id=\"T_96fb3_row4_col3\" class=\"data row4 col3\" >0</td>\n",
       "      <td id=\"T_96fb3_row4_col4\" class=\"data row4 col4\" >0</td>\n",
       "      <td id=\"T_96fb3_row4_col5\" class=\"data row4 col5\" >1</td>\n",
       "      <td id=\"T_96fb3_row4_col6\" class=\"data row4 col6\" >0</td>\n",
       "      <td id=\"T_96fb3_row4_col7\" class=\"data row4 col7\" >0</td>\n",
       "      <td id=\"T_96fb3_row4_col8\" class=\"data row4 col8\" >0</td>\n",
       "      <td id=\"T_96fb3_row4_col9\" class=\"data row4 col9\" >0</td>\n",
       "      <td id=\"T_96fb3_row4_col10\" class=\"data row4 col10\" >4.171026</td>\n",
       "      <td id=\"T_96fb3_row4_col11\" class=\"data row4 col11\" >310.000000</td>\n",
       "      <td id=\"T_96fb3_row4_col12\" class=\"data row4 col12\" >0.000000</td>\n",
       "      <td id=\"T_96fb3_row4_col13\" class=\"data row4 col13\" >10.700000</td>\n",
       "      <td id=\"T_96fb3_row4_col14\" class=\"data row4 col14\" >AZ</td>\n",
       "      <td id=\"T_96fb3_row4_col15\" class=\"data row4 col15\" >flat</td>\n",
       "      <td id=\"T_96fb3_row4_col16\" class=\"data row4 col16\" >1.000000</td>\n",
       "      <td id=\"T_96fb3_row4_col17\" class=\"data row4 col17\" >0.000000</td>\n",
       "      <td id=\"T_96fb3_row4_col18\" class=\"data row4 col18\" >1.000000</td>\n",
       "      <td id=\"T_96fb3_row4_col19\" class=\"data row4 col19\" >41.100000</td>\n",
       "      <td id=\"T_96fb3_row4_col20\" class=\"data row4 col20\" >11.700000</td>\n",
       "      <td id=\"T_96fb3_row4_col21\" class=\"data row4 col21\" >41.100000</td>\n",
       "      <td id=\"T_96fb3_row4_col22\" class=\"data row4 col22\" >0.000000</td>\n",
       "      <td id=\"T_96fb3_row4_col23\" class=\"data row4 col23\" >0.000000</td>\n",
       "      <td id=\"T_96fb3_row4_col24\" class=\"data row4 col24\" >2005.000000</td>\n",
       "      <td id=\"T_96fb3_row4_col25\" class=\"data row4 col25\" >7.000000</td>\n",
       "      <td id=\"T_96fb3_row4_col26\" class=\"data row4 col26\" >spring</td>\n",
       "      <td id=\"T_96fb3_row4_col27\" class=\"data row4 col27\" >34.458783</td>\n",
       "      <td id=\"T_96fb3_row4_col28\" class=\"data row4 col28\" >-111.250883</td>\n",
       "      <td id=\"T_96fb3_row4_col29\" class=\"data row4 col29\" >1.000000</td>\n",
       "    </tr>\n",
       "    <tr>\n",
       "      <th id=\"T_96fb3_level0_row5\" class=\"row_heading level0 row5\" >AZ00005</th>\n",
       "      <td id=\"T_96fb3_row5_col0\" class=\"data row5 col0\" >33.000000</td>\n",
       "      <td id=\"T_96fb3_row5_col1\" class=\"data row5 col1\" >0</td>\n",
       "      <td id=\"T_96fb3_row5_col2\" class=\"data row5 col2\" >0</td>\n",
       "      <td id=\"T_96fb3_row5_col3\" class=\"data row5 col3\" >0</td>\n",
       "      <td id=\"T_96fb3_row5_col4\" class=\"data row5 col4\" >0</td>\n",
       "      <td id=\"T_96fb3_row5_col5\" class=\"data row5 col5\" >1</td>\n",
       "      <td id=\"T_96fb3_row5_col6\" class=\"data row5 col6\" >0</td>\n",
       "      <td id=\"T_96fb3_row5_col7\" class=\"data row5 col7\" >0</td>\n",
       "      <td id=\"T_96fb3_row5_col8\" class=\"data row5 col8\" >0</td>\n",
       "      <td id=\"T_96fb3_row5_col9\" class=\"data row5 col9\" >0</td>\n",
       "      <td id=\"T_96fb3_row5_col10\" class=\"data row5 col10\" >nan</td>\n",
       "      <td id=\"T_96fb3_row5_col11\" class=\"data row5 col11\" >310.000000</td>\n",
       "      <td id=\"T_96fb3_row5_col12\" class=\"data row5 col12\" >0.000000</td>\n",
       "      <td id=\"T_96fb3_row5_col13\" class=\"data row5 col13\" >18.400000</td>\n",
       "      <td id=\"T_96fb3_row5_col14\" class=\"data row5 col14\" >AZ</td>\n",
       "      <td id=\"T_96fb3_row5_col15\" class=\"data row5 col15\" >mountain</td>\n",
       "      <td id=\"T_96fb3_row5_col16\" class=\"data row5 col16\" >1.000000</td>\n",
       "      <td id=\"T_96fb3_row5_col17\" class=\"data row5 col17\" >0.000000</td>\n",
       "      <td id=\"T_96fb3_row5_col18\" class=\"data row5 col18\" >1.000000</td>\n",
       "      <td id=\"T_96fb3_row5_col19\" class=\"data row5 col19\" >41.100000</td>\n",
       "      <td id=\"T_96fb3_row5_col20\" class=\"data row5 col20\" >11.700000</td>\n",
       "      <td id=\"T_96fb3_row5_col21\" class=\"data row5 col21\" >41.100000</td>\n",
       "      <td id=\"T_96fb3_row5_col22\" class=\"data row5 col22\" >0.000000</td>\n",
       "      <td id=\"T_96fb3_row5_col23\" class=\"data row5 col23\" >0.000000</td>\n",
       "      <td id=\"T_96fb3_row5_col24\" class=\"data row5 col24\" >2005.000000</td>\n",
       "      <td id=\"T_96fb3_row5_col25\" class=\"data row5 col25\" >7.000000</td>\n",
       "      <td id=\"T_96fb3_row5_col26\" class=\"data row5 col26\" >spring</td>\n",
       "      <td id=\"T_96fb3_row5_col27\" class=\"data row5 col27\" >35.326533</td>\n",
       "      <td id=\"T_96fb3_row5_col28\" class=\"data row5 col28\" >-111.688433</td>\n",
       "      <td id=\"T_96fb3_row5_col29\" class=\"data row5 col29\" >1.000000</td>\n",
       "    </tr>\n",
       "    <tr>\n",
       "      <th id=\"T_96fb3_level0_row6\" class=\"row_heading level0 row6\" >AZ00006</th>\n",
       "      <td id=\"T_96fb3_row6_col0\" class=\"data row6 col0\" >51.000000</td>\n",
       "      <td id=\"T_96fb3_row6_col1\" class=\"data row6 col1\" >0</td>\n",
       "      <td id=\"T_96fb3_row6_col2\" class=\"data row6 col2\" >0</td>\n",
       "      <td id=\"T_96fb3_row6_col3\" class=\"data row6 col3\" >0</td>\n",
       "      <td id=\"T_96fb3_row6_col4\" class=\"data row6 col4\" >0</td>\n",
       "      <td id=\"T_96fb3_row6_col5\" class=\"data row6 col5\" >0</td>\n",
       "      <td id=\"T_96fb3_row6_col6\" class=\"data row6 col6\" >0</td>\n",
       "      <td id=\"T_96fb3_row6_col7\" class=\"data row6 col7\" >0</td>\n",
       "      <td id=\"T_96fb3_row6_col8\" class=\"data row6 col8\" >0</td>\n",
       "      <td id=\"T_96fb3_row6_col9\" class=\"data row6 col9\" >0</td>\n",
       "      <td id=\"T_96fb3_row6_col10\" class=\"data row6 col10\" >nan</td>\n",
       "      <td id=\"T_96fb3_row6_col11\" class=\"data row6 col11\" >320.000000</td>\n",
       "      <td id=\"T_96fb3_row6_col12\" class=\"data row6 col12\" >0.000000</td>\n",
       "      <td id=\"T_96fb3_row6_col13\" class=\"data row6 col13\" >11.800000</td>\n",
       "      <td id=\"T_96fb3_row6_col14\" class=\"data row6 col14\" >AZ</td>\n",
       "      <td id=\"T_96fb3_row6_col15\" class=\"data row6 col15\" >flat</td>\n",
       "      <td id=\"T_96fb3_row6_col16\" class=\"data row6 col16\" >19.000000</td>\n",
       "      <td id=\"T_96fb3_row6_col17\" class=\"data row6 col17\" >0.000000</td>\n",
       "      <td id=\"T_96fb3_row6_col18\" class=\"data row6 col18\" >19.000000</td>\n",
       "      <td id=\"T_96fb3_row6_col19\" class=\"data row6 col19\" >13.900000</td>\n",
       "      <td id=\"T_96fb3_row6_col20\" class=\"data row6 col20\" >-12.800000</td>\n",
       "      <td id=\"T_96fb3_row6_col21\" class=\"data row6 col21\" >13.900000</td>\n",
       "      <td id=\"T_96fb3_row6_col22\" class=\"data row6 col22\" >0.000000</td>\n",
       "      <td id=\"T_96fb3_row6_col23\" class=\"data row6 col23\" >0.000000</td>\n",
       "      <td id=\"T_96fb3_row6_col24\" class=\"data row6 col24\" >2005.000000</td>\n",
       "      <td id=\"T_96fb3_row6_col25\" class=\"data row6 col25\" >7.000000</td>\n",
       "      <td id=\"T_96fb3_row6_col26\" class=\"data row6 col26\" >spring</td>\n",
       "      <td id=\"T_96fb3_row6_col27\" class=\"data row6 col27\" >32.738133</td>\n",
       "      <td id=\"T_96fb3_row6_col28\" class=\"data row6 col28\" >-109.569217</td>\n",
       "      <td id=\"T_96fb3_row6_col29\" class=\"data row6 col29\" >1.000000</td>\n",
       "    </tr>\n",
       "    <tr>\n",
       "      <th id=\"T_96fb3_level0_row7\" class=\"row_heading level0 row7\" >AZ00007</th>\n",
       "      <td id=\"T_96fb3_row7_col0\" class=\"data row7 col0\" >5.000000</td>\n",
       "      <td id=\"T_96fb3_row7_col1\" class=\"data row7 col1\" >0</td>\n",
       "      <td id=\"T_96fb3_row7_col2\" class=\"data row7 col2\" >1</td>\n",
       "      <td id=\"T_96fb3_row7_col3\" class=\"data row7 col3\" >0</td>\n",
       "      <td id=\"T_96fb3_row7_col4\" class=\"data row7 col4\" >0</td>\n",
       "      <td id=\"T_96fb3_row7_col5\" class=\"data row7 col5\" >0</td>\n",
       "      <td id=\"T_96fb3_row7_col6\" class=\"data row7 col6\" >0</td>\n",
       "      <td id=\"T_96fb3_row7_col7\" class=\"data row7 col7\" >0</td>\n",
       "      <td id=\"T_96fb3_row7_col8\" class=\"data row7 col8\" >0</td>\n",
       "      <td id=\"T_96fb3_row7_col9\" class=\"data row7 col9\" >0</td>\n",
       "      <td id=\"T_96fb3_row7_col10\" class=\"data row7 col10\" >9.817553</td>\n",
       "      <td id=\"T_96fb3_row7_col11\" class=\"data row7 col11\" >320.000000</td>\n",
       "      <td id=\"T_96fb3_row7_col12\" class=\"data row7 col12\" >0.000000</td>\n",
       "      <td id=\"T_96fb3_row7_col13\" class=\"data row7 col13\" >183.600000</td>\n",
       "      <td id=\"T_96fb3_row7_col14\" class=\"data row7 col14\" >AZ</td>\n",
       "      <td id=\"T_96fb3_row7_col15\" class=\"data row7 col15\" >flat</td>\n",
       "      <td id=\"T_96fb3_row7_col16\" class=\"data row7 col16\" >13.000000</td>\n",
       "      <td id=\"T_96fb3_row7_col17\" class=\"data row7 col17\" >0.000000</td>\n",
       "      <td id=\"T_96fb3_row7_col18\" class=\"data row7 col18\" >13.000000</td>\n",
       "      <td id=\"T_96fb3_row7_col19\" class=\"data row7 col19\" >33.300000</td>\n",
       "      <td id=\"T_96fb3_row7_col20\" class=\"data row7 col20\" >9.400000</td>\n",
       "      <td id=\"T_96fb3_row7_col21\" class=\"data row7 col21\" >22.500000</td>\n",
       "      <td id=\"T_96fb3_row7_col22\" class=\"data row7 col22\" >0.000000</td>\n",
       "      <td id=\"T_96fb3_row7_col23\" class=\"data row7 col23\" >0.000000</td>\n",
       "      <td id=\"T_96fb3_row7_col24\" class=\"data row7 col24\" >2005.000000</td>\n",
       "      <td id=\"T_96fb3_row7_col25\" class=\"data row7 col25\" >7.000000</td>\n",
       "      <td id=\"T_96fb3_row7_col26\" class=\"data row7 col26\" >spring</td>\n",
       "      <td id=\"T_96fb3_row7_col27\" class=\"data row7 col27\" >31.700550</td>\n",
       "      <td id=\"T_96fb3_row7_col28\" class=\"data row7 col28\" >-109.498167</td>\n",
       "      <td id=\"T_96fb3_row7_col29\" class=\"data row7 col29\" >1.000000</td>\n",
       "    </tr>\n",
       "    <tr>\n",
       "      <th id=\"T_96fb3_level0_row8\" class=\"row_heading level0 row8\" >AZ00008</th>\n",
       "      <td id=\"T_96fb3_row8_col0\" class=\"data row8 col0\" >49.000000</td>\n",
       "      <td id=\"T_96fb3_row8_col1\" class=\"data row8 col1\" >0</td>\n",
       "      <td id=\"T_96fb3_row8_col2\" class=\"data row8 col2\" >0</td>\n",
       "      <td id=\"T_96fb3_row8_col3\" class=\"data row8 col3\" >0</td>\n",
       "      <td id=\"T_96fb3_row8_col4\" class=\"data row8 col4\" >0</td>\n",
       "      <td id=\"T_96fb3_row8_col5\" class=\"data row8 col5\" >1</td>\n",
       "      <td id=\"T_96fb3_row8_col6\" class=\"data row8 col6\" >0</td>\n",
       "      <td id=\"T_96fb3_row8_col7\" class=\"data row8 col7\" >0</td>\n",
       "      <td id=\"T_96fb3_row8_col8\" class=\"data row8 col8\" >0</td>\n",
       "      <td id=\"T_96fb3_row8_col9\" class=\"data row8 col9\" >0</td>\n",
       "      <td id=\"T_96fb3_row8_col10\" class=\"data row8 col10\" >4.335133</td>\n",
       "      <td id=\"T_96fb3_row8_col11\" class=\"data row8 col11\" >320.000000</td>\n",
       "      <td id=\"T_96fb3_row8_col12\" class=\"data row8 col12\" >0.000000</td>\n",
       "      <td id=\"T_96fb3_row8_col13\" class=\"data row8 col13\" >183.600000</td>\n",
       "      <td id=\"T_96fb3_row8_col14\" class=\"data row8 col14\" >AZ</td>\n",
       "      <td id=\"T_96fb3_row8_col15\" class=\"data row8 col15\" >flat</td>\n",
       "      <td id=\"T_96fb3_row8_col16\" class=\"data row8 col16\" >3.000000</td>\n",
       "      <td id=\"T_96fb3_row8_col17\" class=\"data row8 col17\" >0.000000</td>\n",
       "      <td id=\"T_96fb3_row8_col18\" class=\"data row8 col18\" >3.000000</td>\n",
       "      <td id=\"T_96fb3_row8_col19\" class=\"data row8 col19\" >42.200000</td>\n",
       "      <td id=\"T_96fb3_row8_col20\" class=\"data row8 col20\" >26.100000</td>\n",
       "      <td id=\"T_96fb3_row8_col21\" class=\"data row8 col21\" >42.200000</td>\n",
       "      <td id=\"T_96fb3_row8_col22\" class=\"data row8 col22\" >0.000000</td>\n",
       "      <td id=\"T_96fb3_row8_col23\" class=\"data row8 col23\" >0.000000</td>\n",
       "      <td id=\"T_96fb3_row8_col24\" class=\"data row8 col24\" >2005.000000</td>\n",
       "      <td id=\"T_96fb3_row8_col25\" class=\"data row8 col25\" >7.000000</td>\n",
       "      <td id=\"T_96fb3_row8_col26\" class=\"data row8 col26\" >spring</td>\n",
       "      <td id=\"T_96fb3_row8_col27\" class=\"data row8 col27\" >31.902400</td>\n",
       "      <td id=\"T_96fb3_row8_col28\" class=\"data row8 col28\" >-109.278467</td>\n",
       "      <td id=\"T_96fb3_row8_col29\" class=\"data row8 col29\" >1.000000</td>\n",
       "    </tr>\n",
       "    <tr>\n",
       "      <th id=\"T_96fb3_level0_row9\" class=\"row_heading level0 row9\" >AZ00009</th>\n",
       "      <td id=\"T_96fb3_row9_col0\" class=\"data row9 col0\" >83.000000</td>\n",
       "      <td id=\"T_96fb3_row9_col1\" class=\"data row9 col1\" >0</td>\n",
       "      <td id=\"T_96fb3_row9_col2\" class=\"data row9 col2\" >0</td>\n",
       "      <td id=\"T_96fb3_row9_col3\" class=\"data row9 col3\" >1</td>\n",
       "      <td id=\"T_96fb3_row9_col4\" class=\"data row9 col4\" >0</td>\n",
       "      <td id=\"T_96fb3_row9_col5\" class=\"data row9 col5\" >0</td>\n",
       "      <td id=\"T_96fb3_row9_col6\" class=\"data row9 col6\" >0</td>\n",
       "      <td id=\"T_96fb3_row9_col7\" class=\"data row9 col7\" >0</td>\n",
       "      <td id=\"T_96fb3_row9_col8\" class=\"data row9 col8\" >0</td>\n",
       "      <td id=\"T_96fb3_row9_col9\" class=\"data row9 col9\" >0</td>\n",
       "      <td id=\"T_96fb3_row9_col10\" class=\"data row9 col10\" >0.250187</td>\n",
       "      <td id=\"T_96fb3_row9_col11\" class=\"data row9 col11\" >310.000000</td>\n",
       "      <td id=\"T_96fb3_row9_col12\" class=\"data row9 col12\" >0.000000</td>\n",
       "      <td id=\"T_96fb3_row9_col13\" class=\"data row9 col13\" >212.200000</td>\n",
       "      <td id=\"T_96fb3_row9_col14\" class=\"data row9 col14\" >AZ</td>\n",
       "      <td id=\"T_96fb3_row9_col15\" class=\"data row9 col15\" >flat</td>\n",
       "      <td id=\"T_96fb3_row9_col16\" class=\"data row9 col16\" >6.000000</td>\n",
       "      <td id=\"T_96fb3_row9_col17\" class=\"data row9 col17\" >0.000000</td>\n",
       "      <td id=\"T_96fb3_row9_col18\" class=\"data row9 col18\" >6.000000</td>\n",
       "      <td id=\"T_96fb3_row9_col19\" class=\"data row9 col19\" >12.800000</td>\n",
       "      <td id=\"T_96fb3_row9_col20\" class=\"data row9 col20\" >-11.700000</td>\n",
       "      <td id=\"T_96fb3_row9_col21\" class=\"data row9 col21\" >12.800000</td>\n",
       "      <td id=\"T_96fb3_row9_col22\" class=\"data row9 col22\" >0.000000</td>\n",
       "      <td id=\"T_96fb3_row9_col23\" class=\"data row9 col23\" >35.600000</td>\n",
       "      <td id=\"T_96fb3_row9_col24\" class=\"data row9 col24\" >2005.000000</td>\n",
       "      <td id=\"T_96fb3_row9_col25\" class=\"data row9 col25\" >7.000000</td>\n",
       "      <td id=\"T_96fb3_row9_col26\" class=\"data row9 col26\" >spring</td>\n",
       "      <td id=\"T_96fb3_row9_col27\" class=\"data row9 col27\" >34.650000</td>\n",
       "      <td id=\"T_96fb3_row9_col28\" class=\"data row9 col28\" >-112.500000</td>\n",
       "      <td id=\"T_96fb3_row9_col29\" class=\"data row9 col29\" >1.000000</td>\n",
       "    </tr>\n",
       "  </tbody>\n",
       "</table>\n"
      ],
      "text/plain": [
       "<pandas.io.formats.style.Styler at 0x2229c4d9940>"
      ]
     },
     "execution_count": 8,
     "metadata": {},
     "output_type": "execute_result"
    }
   ],
   "source": [
    "## setting up data for modeling \n",
    "data     = pd.read_csv(latest_file('final_data'), low_memory = False).set_index('id')\n",
    "zipcodes = pd.read_csv(latest_file('zipcodes'),   low_memory = False).iloc[:, 1:]\n",
    "\n",
    "dates_and_coords = pd.read_csv(latest_file('dates_and_coords'),   low_memory = False)\\\n",
    "                     .rename(columns = {'Unnamed: 0': 'id'}).set_index('id')\n",
    "weather_data     = pd.read_csv(latest_file('fixed_weather_data'), low_memory = False)\\\n",
    "                     .rename(columns = {'Unnamed: 0': 'id'}).set_index('id')\n",
    "\n",
    "## day or night binary categorical variable\n",
    "def find_daynight(df_row):\n",
    "    ## returns binary dummy variable for day (0) or night (1)\n",
    "    loc_dt_s   = datetime.strptime(df_row['date_start'], '%Y-%m-%d %H:%M:%S.%f')\n",
    "    loc_dt_e   = datetime.strptime(df_row['date_end'],   '%Y-%m-%d %H:%M:%S.%f')\n",
    "    if loc_dt_s.date() != loc_dt_e.date():\n",
    "        return 1\n",
    "    astral_loc = LocationInfo(\"\", \"\", \"\", df_row['lat'], df_row['lon'])\n",
    "    loc_sun    = sun(astral_loc.observer, date = loc_dt_e)\n",
    "    \n",
    "    try:\n",
    "        if (loc_dt_e <  loc_sun['sunrise'].replace(tzinfo = None)) | \\\n",
    "           (loc_dt_e >= loc_sun['sunset'].replace(tzinfo  = None)):\n",
    "            return 1\n",
    "        else:\n",
    "            return 0\n",
    "    except:\n",
    "        return np.nan\n",
    "    \n",
    "dates_and_coords['cat_night'] = dates_and_coords.progress_apply(lambda x: find_daynight(x), axis = 1)\n",
    "\n",
    "## combine data into one dataset\n",
    "data_drop_cols = ['ac_vessels_used', 'cat_rain', 'cat_snow', 'datetime_found', \\\n",
    "                  'datetime_notif', 'init_datetime', 'county', 'dist_km', \\\n",
    "                  'final_coords', 'init_coords', 'sex', 'total_cost', 'zip']\n",
    "dt_c_drop_cols = ['date_start', 'date', 'date_end', 'zip', 'state', 'station']\n",
    "\n",
    "more_vars  = dates_and_coords.drop(columns = dt_c_drop_cols)\n",
    "model_data = data.drop(columns = data_drop_cols)\\\n",
    "                 .join(weather_data, how = 'left')\\\n",
    "                 .join(more_vars,    how = 'left')\\\n",
    "                 .replace({i: {0: np.nan} for i in \\\n",
    "                           weather_data.columns if \\\n",
    "                           i.startswith('temp')})\n",
    "\n",
    "model_data.to_csv(output_str.format('model_data', curr_date))\n",
    "model_data.head(10).style.background_gradient()"
   ]
  },
  {
   "cell_type": "code",
   "execution_count": 3,
   "id": "35cd9912-80a8-4ec2-8f59-e689dc6ab32c",
   "metadata": {},
   "outputs": [
    {
     "data": {
      "text/plain": [
       "<AxesSubplot:>"
      ]
     },
     "execution_count": 3,
     "metadata": {},
     "output_type": "execute_result"
    },
    {
     "data": {
      "image/png": "[encoded data removed]",
      "text/plain": [
       "<Figure size 1800x720 with 2 Axes>"
      ]
     },
     "metadata": {
      "needs_background": "light"
     },
     "output_type": "display_data"
    }
   ],
   "source": [
    "msno.matrix(model_data)"
   ]
  },
  {
   "cell_type": "code",
   "execution_count": 4,
   "id": "4d770e69-9217-4837-a233-84eda0056e37",
   "metadata": {},
   "outputs": [
    {
     "data": {
      "text/plain": [
       "<AxesSubplot:>"
      ]
     },
     "execution_count": 4,
     "metadata": {},
     "output_type": "execute_result"
    },
    {
     "data": {
      "image/png": "[encoded data removed]",
      "text/plain": [
       "<Figure size 1440x864 with 2 Axes>"
      ]
     },
     "metadata": {
      "needs_background": "light"
     },
     "output_type": "display_data"
    }
   ],
   "source": [
    "msno.heatmap(model_data)"
   ]
  },
  {
   "cell_type": "code",
   "execution_count": 5,
   "id": "27bb55b2-cc63-4173-a63f-4ad867f2961e",
   "metadata": {},
   "outputs": [
    {
     "data": {
      "text/plain": [
       "<AxesSubplot:>"
      ]
     },
     "execution_count": 5,
     "metadata": {},
     "output_type": "execute_result"
    },
    {
     "data": {
      "image/png": "[encoded data removed]",
      "text/plain": [
       "<Figure size 1800x720 with 1 Axes>"
      ]
     },
     "metadata": {
      "needs_background": "light"
     },
     "output_type": "display_data"
    }
   ],
   "source": [
    "msno.dendrogram(model_data)"
   ]
  },
  {
   "cell_type": "code",
   "execution_count": null,
   "id": "5a1aae5e-91e2-4c55-b786-985e219cec1f",
   "metadata": {},
   "outputs": [],
   "source": [
    "pd.concat([model_data.isna().sum(), model_data.isna().mean()], axis = 1).replace({0: np.nan}).dropna().sort_index()"
   ]
  },
  {
   "cell_type": "code",
   "execution_count": 6,
   "id": "76ed4207-120b-44a1-8caa-59b816329ad0",
   "metadata": {
    "tags": []
   },
   "outputs": [
    {
     "ename": "KeyboardInterrupt",
     "evalue": "",
     "output_type": "error",
     "traceback": [
      "\u001b[1;31m---------------------------------------------------------------------------\u001b[0m",
      "\u001b[1;31mKeyboardInterrupt\u001b[0m                         Traceback (most recent call last)",
      "\u001b[1;32m~\\AppData\\Local\\Temp/ipykernel_18824/1960031467.py\u001b[0m in \u001b[0;36m<module>\u001b[1;34m\u001b[0m\n\u001b[0;32m     48\u001b[0m \u001b[1;33m\u001b[0m\u001b[0m\n\u001b[0;32m     49\u001b[0m \u001b[0mrf_impute_data\u001b[0m \u001b[1;33m=\u001b[0m \u001b[0mmodel_data\u001b[0m\u001b[1;33m.\u001b[0m\u001b[0mcopy\u001b[0m\u001b[1;33m(\u001b[0m\u001b[1;33m)\u001b[0m\u001b[1;33m\u001b[0m\u001b[1;33m\u001b[0m\u001b[0m\n\u001b[1;32m---> 50\u001b[1;33m \u001b[0mrf_impute_data\u001b[0m\u001b[1;33m.\u001b[0m\u001b[0mloc\u001b[0m\u001b[1;33m[\u001b[0m\u001b[1;33m:\u001b[0m\u001b[1;33m,\u001b[0m \u001b[0mcat_cols\u001b[0m\u001b[1;33m]\u001b[0m \u001b[1;33m=\u001b[0m \u001b[0mIterativeImputer\u001b[0m\u001b[1;33m(\u001b[0m\u001b[0mRandomForestClassifier\u001b[0m\u001b[1;33m(\u001b[0m\u001b[0mn_estimators\u001b[0m \u001b[1;33m=\u001b[0m \u001b[1;36m100\u001b[0m\u001b[1;33m,\u001b[0m \u001b[0mn_jobs\u001b[0m \u001b[1;33m=\u001b[0m \u001b[1;33m-\u001b[0m\u001b[1;36m1\u001b[0m\u001b[1;33m)\u001b[0m\u001b[1;33m,\u001b[0m \u001b[0mmax_iter\u001b[0m \u001b[1;33m=\u001b[0m \u001b[1;36m50\u001b[0m\u001b[1;33m)\u001b[0m\u001b[0;31m\\\u001b[0m\u001b[1;33m\u001b[0m\u001b[1;33m\u001b[0m\u001b[0m\n\u001b[0m\u001b[0;32m     51\u001b[0m                                  \u001b[1;33m.\u001b[0m\u001b[0mfit_transform\u001b[0m\u001b[1;33m(\u001b[0m\u001b[0mrf_impute_data\u001b[0m\u001b[1;33m[\u001b[0m\u001b[0mcat_cols\u001b[0m\u001b[1;33m]\u001b[0m\u001b[1;33m)\u001b[0m\u001b[1;33m\u001b[0m\u001b[1;33m\u001b[0m\u001b[0m\n\u001b[0;32m     52\u001b[0m \u001b[0mrf_impute_data\u001b[0m\u001b[1;33m.\u001b[0m\u001b[0mloc\u001b[0m\u001b[1;33m[\u001b[0m\u001b[1;33m:\u001b[0m\u001b[1;33m,\u001b[0m \u001b[0mnum_cols\u001b[0m\u001b[1;33m]\u001b[0m \u001b[1;33m=\u001b[0m \u001b[0mIterativeImputer\u001b[0m\u001b[1;33m(\u001b[0m\u001b[0mRandomForestRegressor\u001b[0m\u001b[1;33m(\u001b[0m\u001b[0mn_estimators\u001b[0m  \u001b[1;33m=\u001b[0m \u001b[1;36m100\u001b[0m\u001b[1;33m,\u001b[0m \u001b[0mn_jobs\u001b[0m \u001b[1;33m=\u001b[0m \u001b[1;33m-\u001b[0m\u001b[1;36m1\u001b[0m\u001b[1;33m)\u001b[0m\u001b[1;33m,\u001b[0m \u001b[0mmax_iter\u001b[0m \u001b[1;33m=\u001b[0m \u001b[1;36m50\u001b[0m\u001b[1;33m)\u001b[0m\u001b[0;31m\\\u001b[0m\u001b[1;33m\u001b[0m\u001b[1;33m\u001b[0m\u001b[0m\n",
      "\u001b[1;32mC:\\ProgramData\\Anaconda3\\lib\\site-packages\\sklearn\\impute\\_iterative.py\u001b[0m in \u001b[0;36mfit_transform\u001b[1;34m(self, X, y)\u001b[0m\n\u001b[0;32m    655\u001b[0m                                                                 \u001b[0mfeat_idx\u001b[0m\u001b[1;33m,\u001b[0m\u001b[1;33m\u001b[0m\u001b[1;33m\u001b[0m\u001b[0m\n\u001b[0;32m    656\u001b[0m                                                                 abs_corr_mat)\n\u001b[1;32m--> 657\u001b[1;33m                 Xt, estimator = self._impute_one_feature(\n\u001b[0m\u001b[0;32m    658\u001b[0m                     \u001b[0mXt\u001b[0m\u001b[1;33m,\u001b[0m \u001b[0mmask_missing_values\u001b[0m\u001b[1;33m,\u001b[0m \u001b[0mfeat_idx\u001b[0m\u001b[1;33m,\u001b[0m \u001b[0mneighbor_feat_idx\u001b[0m\u001b[1;33m,\u001b[0m\u001b[1;33m\u001b[0m\u001b[1;33m\u001b[0m\u001b[0m\n\u001b[0;32m    659\u001b[0m                     estimator=None, fit_mode=True)\n",
      "\u001b[1;32mC:\\ProgramData\\Anaconda3\\lib\\site-packages\\sklearn\\impute\\_iterative.py\u001b[0m in \u001b[0;36m_impute_one_feature\u001b[1;34m(self, X_filled, mask_missing_values, feat_idx, neighbor_feat_idx, estimator, fit_mode)\u001b[0m\n\u001b[0;32m    340\u001b[0m                 random_state=self.random_state_)\n\u001b[0;32m    341\u001b[0m         \u001b[1;32melse\u001b[0m\u001b[1;33m:\u001b[0m\u001b[1;33m\u001b[0m\u001b[1;33m\u001b[0m\u001b[0m\n\u001b[1;32m--> 342\u001b[1;33m             \u001b[0mimputed_values\u001b[0m \u001b[1;33m=\u001b[0m \u001b[0mestimator\u001b[0m\u001b[1;33m.\u001b[0m\u001b[0mpredict\u001b[0m\u001b[1;33m(\u001b[0m\u001b[0mX_test\u001b[0m\u001b[1;33m)\u001b[0m\u001b[1;33m\u001b[0m\u001b[1;33m\u001b[0m\u001b[0m\n\u001b[0m\u001b[0;32m    343\u001b[0m             imputed_values = np.clip(imputed_values,\n\u001b[0;32m    344\u001b[0m                                      \u001b[0mself\u001b[0m\u001b[1;33m.\u001b[0m\u001b[0m_min_value\u001b[0m\u001b[1;33m[\u001b[0m\u001b[0mfeat_idx\u001b[0m\u001b[1;33m]\u001b[0m\u001b[1;33m,\u001b[0m\u001b[1;33m\u001b[0m\u001b[1;33m\u001b[0m\u001b[0m\n",
      "\u001b[1;32mC:\\ProgramData\\Anaconda3\\lib\\site-packages\\sklearn\\ensemble\\_forest.py\u001b[0m in \u001b[0;36mpredict\u001b[1;34m(self, X)\u001b[0m\n\u001b[0;32m    628\u001b[0m             \u001b[0mThe\u001b[0m \u001b[0mpredicted\u001b[0m \u001b[0mclasses\u001b[0m\u001b[1;33m.\u001b[0m\u001b[1;33m\u001b[0m\u001b[1;33m\u001b[0m\u001b[0m\n\u001b[0;32m    629\u001b[0m         \"\"\"\n\u001b[1;32m--> 630\u001b[1;33m         \u001b[0mproba\u001b[0m \u001b[1;33m=\u001b[0m \u001b[0mself\u001b[0m\u001b[1;33m.\u001b[0m\u001b[0mpredict_proba\u001b[0m\u001b[1;33m(\u001b[0m\u001b[0mX\u001b[0m\u001b[1;33m)\u001b[0m\u001b[1;33m\u001b[0m\u001b[1;33m\u001b[0m\u001b[0m\n\u001b[0m\u001b[0;32m    631\u001b[0m \u001b[1;33m\u001b[0m\u001b[0m\n\u001b[0;32m    632\u001b[0m         \u001b[1;32mif\u001b[0m \u001b[0mself\u001b[0m\u001b[1;33m.\u001b[0m\u001b[0mn_outputs_\u001b[0m \u001b[1;33m==\u001b[0m \u001b[1;36m1\u001b[0m\u001b[1;33m:\u001b[0m\u001b[1;33m\u001b[0m\u001b[1;33m\u001b[0m\u001b[0m\n",
      "\u001b[1;32mC:\\ProgramData\\Anaconda3\\lib\\site-packages\\sklearn\\ensemble\\_forest.py\u001b[0m in \u001b[0;36mpredict_proba\u001b[1;34m(self, X)\u001b[0m\n\u001b[0;32m    681\u001b[0m                      for j in np.atleast_1d(self.n_classes_)]\n\u001b[0;32m    682\u001b[0m         \u001b[0mlock\u001b[0m \u001b[1;33m=\u001b[0m \u001b[0mthreading\u001b[0m\u001b[1;33m.\u001b[0m\u001b[0mLock\u001b[0m\u001b[1;33m(\u001b[0m\u001b[1;33m)\u001b[0m\u001b[1;33m\u001b[0m\u001b[1;33m\u001b[0m\u001b[0m\n\u001b[1;32m--> 683\u001b[1;33m         Parallel(n_jobs=n_jobs, verbose=self.verbose,\n\u001b[0m\u001b[0;32m    684\u001b[0m                  \u001b[1;33m**\u001b[0m\u001b[0m_joblib_parallel_args\u001b[0m\u001b[1;33m(\u001b[0m\u001b[0mrequire\u001b[0m\u001b[1;33m=\u001b[0m\u001b[1;34m\"sharedmem\"\u001b[0m\u001b[1;33m)\u001b[0m\u001b[1;33m)\u001b[0m\u001b[1;33m(\u001b[0m\u001b[1;33m\u001b[0m\u001b[1;33m\u001b[0m\u001b[0m\n\u001b[0;32m    685\u001b[0m             delayed(_accumulate_prediction)(e.predict_proba, X, all_proba,\n",
      "\u001b[1;32mC:\\ProgramData\\Anaconda3\\lib\\site-packages\\joblib\\parallel.py\u001b[0m in \u001b[0;36m__call__\u001b[1;34m(self, iterable)\u001b[0m\n\u001b[0;32m   1054\u001b[0m \u001b[1;33m\u001b[0m\u001b[0m\n\u001b[0;32m   1055\u001b[0m             \u001b[1;32mwith\u001b[0m \u001b[0mself\u001b[0m\u001b[1;33m.\u001b[0m\u001b[0m_backend\u001b[0m\u001b[1;33m.\u001b[0m\u001b[0mretrieval_context\u001b[0m\u001b[1;33m(\u001b[0m\u001b[1;33m)\u001b[0m\u001b[1;33m:\u001b[0m\u001b[1;33m\u001b[0m\u001b[1;33m\u001b[0m\u001b[0m\n\u001b[1;32m-> 1056\u001b[1;33m                 \u001b[0mself\u001b[0m\u001b[1;33m.\u001b[0m\u001b[0mretrieve\u001b[0m\u001b[1;33m(\u001b[0m\u001b[1;33m)\u001b[0m\u001b[1;33m\u001b[0m\u001b[1;33m\u001b[0m\u001b[0m\n\u001b[0m\u001b[0;32m   1057\u001b[0m             \u001b[1;31m# Make sure that we get a last message telling us we are done\u001b[0m\u001b[1;33m\u001b[0m\u001b[1;33m\u001b[0m\u001b[0m\n\u001b[0;32m   1058\u001b[0m             \u001b[0melapsed_time\u001b[0m \u001b[1;33m=\u001b[0m \u001b[0mtime\u001b[0m\u001b[1;33m.\u001b[0m\u001b[0mtime\u001b[0m\u001b[1;33m(\u001b[0m\u001b[1;33m)\u001b[0m \u001b[1;33m-\u001b[0m \u001b[0mself\u001b[0m\u001b[1;33m.\u001b[0m\u001b[0m_start_time\u001b[0m\u001b[1;33m\u001b[0m\u001b[1;33m\u001b[0m\u001b[0m\n",
      "\u001b[1;32mC:\\ProgramData\\Anaconda3\\lib\\site-packages\\joblib\\parallel.py\u001b[0m in \u001b[0;36mretrieve\u001b[1;34m(self)\u001b[0m\n\u001b[0;32m    933\u001b[0m             \u001b[1;32mtry\u001b[0m\u001b[1;33m:\u001b[0m\u001b[1;33m\u001b[0m\u001b[1;33m\u001b[0m\u001b[0m\n\u001b[0;32m    934\u001b[0m                 \u001b[1;32mif\u001b[0m \u001b[0mgetattr\u001b[0m\u001b[1;33m(\u001b[0m\u001b[0mself\u001b[0m\u001b[1;33m.\u001b[0m\u001b[0m_backend\u001b[0m\u001b[1;33m,\u001b[0m \u001b[1;34m'supports_timeout'\u001b[0m\u001b[1;33m,\u001b[0m \u001b[1;32mFalse\u001b[0m\u001b[1;33m)\u001b[0m\u001b[1;33m:\u001b[0m\u001b[1;33m\u001b[0m\u001b[1;33m\u001b[0m\u001b[0m\n\u001b[1;32m--> 935\u001b[1;33m                     \u001b[0mself\u001b[0m\u001b[1;33m.\u001b[0m\u001b[0m_output\u001b[0m\u001b[1;33m.\u001b[0m\u001b[0mextend\u001b[0m\u001b[1;33m(\u001b[0m\u001b[0mjob\u001b[0m\u001b[1;33m.\u001b[0m\u001b[0mget\u001b[0m\u001b[1;33m(\u001b[0m\u001b[0mtimeout\u001b[0m\u001b[1;33m=\u001b[0m\u001b[0mself\u001b[0m\u001b[1;33m.\u001b[0m\u001b[0mtimeout\u001b[0m\u001b[1;33m)\u001b[0m\u001b[1;33m)\u001b[0m\u001b[1;33m\u001b[0m\u001b[1;33m\u001b[0m\u001b[0m\n\u001b[0m\u001b[0;32m    936\u001b[0m                 \u001b[1;32melse\u001b[0m\u001b[1;33m:\u001b[0m\u001b[1;33m\u001b[0m\u001b[1;33m\u001b[0m\u001b[0m\n\u001b[0;32m    937\u001b[0m                     \u001b[0mself\u001b[0m\u001b[1;33m.\u001b[0m\u001b[0m_output\u001b[0m\u001b[1;33m.\u001b[0m\u001b[0mextend\u001b[0m\u001b[1;33m(\u001b[0m\u001b[0mjob\u001b[0m\u001b[1;33m.\u001b[0m\u001b[0mget\u001b[0m\u001b[1;33m(\u001b[0m\u001b[1;33m)\u001b[0m\u001b[1;33m)\u001b[0m\u001b[1;33m\u001b[0m\u001b[1;33m\u001b[0m\u001b[0m\n",
      "\u001b[1;32mC:\\ProgramData\\Anaconda3\\lib\\multiprocessing\\pool.py\u001b[0m in \u001b[0;36mget\u001b[1;34m(self, timeout)\u001b[0m\n\u001b[0;32m    763\u001b[0m \u001b[1;33m\u001b[0m\u001b[0m\n\u001b[0;32m    764\u001b[0m     \u001b[1;32mdef\u001b[0m \u001b[0mget\u001b[0m\u001b[1;33m(\u001b[0m\u001b[0mself\u001b[0m\u001b[1;33m,\u001b[0m \u001b[0mtimeout\u001b[0m\u001b[1;33m=\u001b[0m\u001b[1;32mNone\u001b[0m\u001b[1;33m)\u001b[0m\u001b[1;33m:\u001b[0m\u001b[1;33m\u001b[0m\u001b[1;33m\u001b[0m\u001b[0m\n\u001b[1;32m--> 765\u001b[1;33m         \u001b[0mself\u001b[0m\u001b[1;33m.\u001b[0m\u001b[0mwait\u001b[0m\u001b[1;33m(\u001b[0m\u001b[0mtimeout\u001b[0m\u001b[1;33m)\u001b[0m\u001b[1;33m\u001b[0m\u001b[1;33m\u001b[0m\u001b[0m\n\u001b[0m\u001b[0;32m    766\u001b[0m         \u001b[1;32mif\u001b[0m \u001b[1;32mnot\u001b[0m \u001b[0mself\u001b[0m\u001b[1;33m.\u001b[0m\u001b[0mready\u001b[0m\u001b[1;33m(\u001b[0m\u001b[1;33m)\u001b[0m\u001b[1;33m:\u001b[0m\u001b[1;33m\u001b[0m\u001b[1;33m\u001b[0m\u001b[0m\n\u001b[0;32m    767\u001b[0m             \u001b[1;32mraise\u001b[0m \u001b[0mTimeoutError\u001b[0m\u001b[1;33m\u001b[0m\u001b[1;33m\u001b[0m\u001b[0m\n",
      "\u001b[1;32mC:\\ProgramData\\Anaconda3\\lib\\multiprocessing\\pool.py\u001b[0m in \u001b[0;36mwait\u001b[1;34m(self, timeout)\u001b[0m\n\u001b[0;32m    760\u001b[0m \u001b[1;33m\u001b[0m\u001b[0m\n\u001b[0;32m    761\u001b[0m     \u001b[1;32mdef\u001b[0m \u001b[0mwait\u001b[0m\u001b[1;33m(\u001b[0m\u001b[0mself\u001b[0m\u001b[1;33m,\u001b[0m \u001b[0mtimeout\u001b[0m\u001b[1;33m=\u001b[0m\u001b[1;32mNone\u001b[0m\u001b[1;33m)\u001b[0m\u001b[1;33m:\u001b[0m\u001b[1;33m\u001b[0m\u001b[1;33m\u001b[0m\u001b[0m\n\u001b[1;32m--> 762\u001b[1;33m         \u001b[0mself\u001b[0m\u001b[1;33m.\u001b[0m\u001b[0m_event\u001b[0m\u001b[1;33m.\u001b[0m\u001b[0mwait\u001b[0m\u001b[1;33m(\u001b[0m\u001b[0mtimeout\u001b[0m\u001b[1;33m)\u001b[0m\u001b[1;33m\u001b[0m\u001b[1;33m\u001b[0m\u001b[0m\n\u001b[0m\u001b[0;32m    763\u001b[0m \u001b[1;33m\u001b[0m\u001b[0m\n\u001b[0;32m    764\u001b[0m     \u001b[1;32mdef\u001b[0m \u001b[0mget\u001b[0m\u001b[1;33m(\u001b[0m\u001b[0mself\u001b[0m\u001b[1;33m,\u001b[0m \u001b[0mtimeout\u001b[0m\u001b[1;33m=\u001b[0m\u001b[1;32mNone\u001b[0m\u001b[1;33m)\u001b[0m\u001b[1;33m:\u001b[0m\u001b[1;33m\u001b[0m\u001b[1;33m\u001b[0m\u001b[0m\n",
      "\u001b[1;32mC:\\ProgramData\\Anaconda3\\lib\\threading.py\u001b[0m in \u001b[0;36mwait\u001b[1;34m(self, timeout)\u001b[0m\n\u001b[0;32m    572\u001b[0m             \u001b[0msignaled\u001b[0m \u001b[1;33m=\u001b[0m \u001b[0mself\u001b[0m\u001b[1;33m.\u001b[0m\u001b[0m_flag\u001b[0m\u001b[1;33m\u001b[0m\u001b[1;33m\u001b[0m\u001b[0m\n\u001b[0;32m    573\u001b[0m             \u001b[1;32mif\u001b[0m \u001b[1;32mnot\u001b[0m \u001b[0msignaled\u001b[0m\u001b[1;33m:\u001b[0m\u001b[1;33m\u001b[0m\u001b[1;33m\u001b[0m\u001b[0m\n\u001b[1;32m--> 574\u001b[1;33m                 \u001b[0msignaled\u001b[0m \u001b[1;33m=\u001b[0m \u001b[0mself\u001b[0m\u001b[1;33m.\u001b[0m\u001b[0m_cond\u001b[0m\u001b[1;33m.\u001b[0m\u001b[0mwait\u001b[0m\u001b[1;33m(\u001b[0m\u001b[0mtimeout\u001b[0m\u001b[1;33m)\u001b[0m\u001b[1;33m\u001b[0m\u001b[1;33m\u001b[0m\u001b[0m\n\u001b[0m\u001b[0;32m    575\u001b[0m             \u001b[1;32mreturn\u001b[0m \u001b[0msignaled\u001b[0m\u001b[1;33m\u001b[0m\u001b[1;33m\u001b[0m\u001b[0m\n\u001b[0;32m    576\u001b[0m \u001b[1;33m\u001b[0m\u001b[0m\n",
      "\u001b[1;32mC:\\ProgramData\\Anaconda3\\lib\\threading.py\u001b[0m in \u001b[0;36mwait\u001b[1;34m(self, timeout)\u001b[0m\n\u001b[0;32m    310\u001b[0m         \u001b[1;32mtry\u001b[0m\u001b[1;33m:\u001b[0m    \u001b[1;31m# restore state no matter what (e.g., KeyboardInterrupt)\u001b[0m\u001b[1;33m\u001b[0m\u001b[1;33m\u001b[0m\u001b[0m\n\u001b[0;32m    311\u001b[0m             \u001b[1;32mif\u001b[0m \u001b[0mtimeout\u001b[0m \u001b[1;32mis\u001b[0m \u001b[1;32mNone\u001b[0m\u001b[1;33m:\u001b[0m\u001b[1;33m\u001b[0m\u001b[1;33m\u001b[0m\u001b[0m\n\u001b[1;32m--> 312\u001b[1;33m                 \u001b[0mwaiter\u001b[0m\u001b[1;33m.\u001b[0m\u001b[0macquire\u001b[0m\u001b[1;33m(\u001b[0m\u001b[1;33m)\u001b[0m\u001b[1;33m\u001b[0m\u001b[1;33m\u001b[0m\u001b[0m\n\u001b[0m\u001b[0;32m    313\u001b[0m                 \u001b[0mgotit\u001b[0m \u001b[1;33m=\u001b[0m \u001b[1;32mTrue\u001b[0m\u001b[1;33m\u001b[0m\u001b[1;33m\u001b[0m\u001b[0m\n\u001b[0;32m    314\u001b[0m             \u001b[1;32melse\u001b[0m\u001b[1;33m:\u001b[0m\u001b[1;33m\u001b[0m\u001b[1;33m\u001b[0m\u001b[0m\n",
      "\u001b[1;31mKeyboardInterrupt\u001b[0m: "
     ]
    }
   ],
   "source": [
    "## convert categorical (string) variables to int\n",
    "eco_div_map  = {val: idx for idx, val in \\\n",
    "                enumerate(model_data['eco_div']\\\n",
    "                         .dropna().unique())}\n",
    "season_map   = {'spring': 0, 'summer': 1, \\\n",
    "                'fall':   2, 'winter': 3}\n",
    "state_map    = {val: idx for idx, val in \\\n",
    "                enumerate(model_data['state'].dropna()\\\n",
    "                         .sort_values().unique())}\n",
    "terrain_map  = {val: idx for idx, val in \\\n",
    "                enumerate(model_data['terrain'].dropna()\\\n",
    "                         .sort_values().unique())}\n",
    "\n",
    "model_data['eco_div'] = model_data['eco_div'].replace(eco_div_map)\n",
    "model_data['season']  = model_data['season'].replace(season_map)\n",
    "model_data['state']   = model_data['state'].replace(state_map)\n",
    "model_data['terrain'] = model_data['terrain'].replace(terrain_map)\n",
    "## savea a version with categories changed to numeric values\n",
    "model_data.to_csv(output_str.format('model_data_catnumeric', curr_date))\n",
    "\n",
    "cat_cols = [i for i in model_data.columns if i.startswith('cat')] + \\\n",
    "           ['eco_div', 'month', 'outcome', 'season', 'state', 'terrain', 'year']\n",
    "num_cols = [i for i in model_data.columns if i.startswith('total') | i.startswith('temp')] + \\\n",
    "           ['age', 'population_density', 'rain', 'snow_depth', 'lat', 'lon']\n",
    "\n",
    "## version of `model_data` dataset with categorical-coded variables\n",
    "## encoding categorical variables\n",
    "model_data_cat = model_data.copy()\n",
    "for col in cat_cols:\n",
    "    model_data_cat[col] = model_data_cat[col].astype('category')\n",
    "    label = LabelEncoder()\n",
    "    label.fit(list(model_data_cat[col].values))\n",
    "    model_data_cat[col] = label.transform(list(model_data_cat[col].values))\n",
    "\n",
    "knn_impute_data = model_data.copy()\n",
    "knn_impute_data.loc[:, :] = KNNImputer(n_neighbors = 1).fit_transform(knn_impute_data)\n",
    "knn_impute_data[cat_cols] = knn_impute_data[cat_cols].round(0)\n",
    "knn_impute_data.to_csv(output_str.format('knn_impute_data', curr_date))\n",
    "\n",
    "## version of `knn_impute_data` dataset with categorical-coded variables\n",
    "## encoding categorical variables\n",
    "knn_impute_data_cat = knn_impute_data.copy()\n",
    "for col in cat_cols:\n",
    "    knn_impute_data_cat[col] = knn_impute_data_cat[col].astype('category')\n",
    "    label = LabelEncoder()\n",
    "    label.fit(list(knn_impute_data_cat[col].values))\n",
    "    knn_impute_data_cat[col] = label.transform(list(knn_impute_data_cat[col].values))\n",
    "\n",
    "rf_impute_data = model_data.copy()\n",
    "rf_impute_data.loc[:, cat_cols] = IterativeImputer(RandomForestClassifier(n_estimators = 100, n_jobs = -1), max_iter = 50)\\\n",
    "                                 .fit_transform(rf_impute_data[cat_cols])\n",
    "rf_impute_data.loc[:, num_cols] = IterativeImputer(RandomForestRegressor(n_estimators  = 100, n_jobs = -1), max_iter = 50)\\\n",
    "                                 .fit_transform(rf_impute_data[num_cols])\n",
    "rf_impute_data.to_csv(output_str.format('rf_impute_data', curr_date))\n",
    "for col in cat_cols:\n",
    "    rf_impute_data[col] = rf_impute_data[col].astype('category')\n",
    "    label = LabelEncoder()\n",
    "    label.fit(list(rf_impute_data[col].values))\n",
    "    rf_impute_data[col] = label.transform(list(rf_impute_data[col].values))\n",
    "\n",
    "#missing_data = model_data.copy()\n",
    "#missing_data = MissingIndicator().fit_transform(missing_data)\n",
    "\n",
    "#missing_knn_impute_data = model_data.copy()\n",
    "#missing_knn_transformer = FeatureUnion(transformer_list = [('features',   KNNImputer(n_neighbors = 1)), \\\n",
    "#                                                           ('indicators', MissingIndicator())])\n",
    "#missing_knn_impute_data = missing_knn_transformer.fit_transform(missing_knn_impute_data)\n",
    "# make_pipeline(transformer, [model]).fit(X_train, y_train).predict(X_test)"
   ]
  },
  {
   "cell_type": "raw",
   "id": "d1f28904-6b75-4bc8-aa91-c5478bac4bd8",
   "metadata": {},
   "source": [
    "fig = plt.figure()\n",
    "ax = model_data['dist_mi'].plot.hist(bins = 100)\n",
    "ax.set_xscale('log')"
   ]
  },
  {
   "cell_type": "raw",
   "id": "9799d073-7714-4127-8a45-96a84d01ea49",
   "metadata": {},
   "source": [
    "Xk = knn_impute_data.drop('dist_mi', axis = 1).values\n",
    "yk = knn_impute_data['dist_mi'].values\n",
    "Xk_train, Xk_test, yk_train, yk_test = train_test_split(Xk, yk, test_size = 0.2, random_state = 1000)\n",
    "n_samples, n_features = Xk.shape\n",
    "\n",
    "Xk_train = StandardScaler().fit_transform(Xk_train)\n",
    "Xk_test  = StandardScaler().fit_transform(Xk_test)\n",
    "\n",
    "rf = RandomForestRegressor(n_jobs    = -1,    bootstrap    = True, \\\n",
    "                           criterion = 'mse', random_state = 1000)\n",
    "param_distributions = {\n",
    "    'n_estimators': randint(25, 75),\n",
    "    'max_depth':    randint(2,  10)\n",
    "}\n",
    "\n",
    "tune_search = TuneSearchCV(rf, param_distributions, n_trials = 20)\n",
    "tune_search.fit(Xk_train, yk_train)\n",
    "\n",
    "rf_k_pred = tune_search.predict(Xk_test)\n",
    "\n",
    "## mean absolute error (mae)\n",
    "rf_k_error = abs(rf_k_pred - yk_test)\n",
    "rf_k_mae   = np.mean(rf_k_error)\n",
    "\n",
    "## mean squared error (mse)\n",
    "rf_k_mse = mean_squared_error(yk_test, rf_k_pred)\n",
    "\n",
    "## r-squared\n",
    "rf_k_r2 = tune_search.score(Xk_test, yk_test)\n",
    "\n",
    "print(\"MAE:  {:.5f}\".format(rf_k_mae))\n",
    "print(\"MSE:  {:.5f}\".format(rf_k_mse))\n",
    "print(\"RMSE: {:.5f}\".format(rf_k_mse * (1/2.0)))\n",
    "print(\"R\\u00b2:   {:.5f}\".format(rf_k_r2))"
   ]
  },
  {
   "cell_type": "code",
   "execution_count": null,
   "id": "b8712b94-d2aa-46af-a84e-af98d09f56ac",
   "metadata": {},
   "outputs": [],
   "source": [
    "model_data_cat.loc[~model_data_cat['dist_mi'].isna(), :].drop(['dist_mi', 'outcome'], axis = 1)"
   ]
  },
  {
   "cell_type": "markdown",
   "id": "1ed44fdc-6afc-432f-9620-c1a0af2d6e33",
   "metadata": {
    "tags": []
   },
   "source": [
    "# Modeling"
   ]
  },
  {
   "cell_type": "code",
   "execution_count": 9,
   "id": "e9ff775d-2948-47cb-8d47-4069784d5223",
   "metadata": {},
   "outputs": [],
   "source": [
    "model_data      = pd.read_csv(latest_file('model_data'),            low_memory = False)\\\n",
    "                    .set_index('id').drop('outcome', axis = 1)\n",
    "model_data_cat  = pd.read_csv(latest_file('model_data_catnumeric'), low_memory = False)\\\n",
    "                    .set_index('id').drop('outcome', axis = 1)\n",
    "knn_impute_data = pd.read_csv(latest_file('knn_impute_data'),       low_memory = False)\\\n",
    "                    .set_index('id').drop('outcome', axis = 1)\n",
    "rf_impute_data  = pd.read_csv(latest_file('rf_impute_data'),        low_memory = False)\\\n",
    "                    .set_index('id').drop('outcome', axis = 1)\n",
    "\n",
    "def convert_categorical(df, list_cats):\n",
    "    for col in list_cats:\n",
    "        df[col] = df[col].astype('category')\n",
    "        label = LabelEncoder()\n",
    "        label.fit(list(df[col].values))\n",
    "        df[col] = label.transform(list(df[col].values))\n",
    "    return df\n",
    "## excluding 'outcome'\n",
    "cat_cols = [i for i in model_data.columns if i.startswith('cat')] + \\\n",
    "           ['eco_div', 'month', 'season', 'state', 'terrain', 'year']\n",
    "num_cols = [i for i in model_data.columns if i.startswith('total') | i.startswith('temp')] + \\\n",
    "           ['age', 'population_density', 'rain', 'snow_depth', 'lat', 'lon']\n",
    "\n",
    "model_data_cat  = convert_categorical(model_data_cat,  cat_cols)\n",
    "knn_impute_data = convert_categorical(knn_impute_data, cat_cols)\n",
    "rf_impute_data  = convert_categorical(rf_impute_data,  cat_cols)"
   ]
  },
  {
   "cell_type": "code",
   "execution_count": 10,
   "id": "d467f6d1-3b6f-4c5f-b1d1-b80d5539e05c",
   "metadata": {},
   "outputs": [
    {
     "data": {
      "text/plain": [
       "<AxesSubplot:>"
      ]
     },
     "execution_count": 10,
     "metadata": {},
     "output_type": "execute_result"
    },
    {
     "data": {
      "image/png": "[encoded data removed]",
      "text/plain": [
       "<Figure size 1296x1152 with 2 Axes>"
      ]
     },
     "metadata": {
      "needs_background": "light"
     },
     "output_type": "display_data"
    }
   ],
   "source": [
    "# Compute the correlation matrix\n",
    "corr = model_data[['dist_mi', 'month', 'season', 'state', 'terrain', 'year'] + num_cols].corr()\n",
    "\n",
    "# Generate a mask for the upper triangle\n",
    "mask = np.triu(np.ones_like(corr, dtype=bool))\n",
    "\n",
    "# Set up the matplotlib figure\n",
    "f, ax = plt.subplots(figsize=(18, 16))\n",
    "\n",
    "# Generate a custom diverging colormap\n",
    "cmap = sns.diverging_palette(230, 20, as_cmap=True)\n",
    "\n",
    "# Draw the heatmap with the mask and correct aspect ratio\n",
    "sns.heatmap(corr, mask=mask, cmap=cmap, vmax=.3, center=0,\n",
    "            square=True, linewidths=.5, cbar_kws={\"shrink\": .5})"
   ]
  },
  {
   "cell_type": "markdown",
   "id": "913f5b7d-3e60-4b57-955a-ef21b4a6e960",
   "metadata": {},
   "source": [
    "### Standard Data, Random Forest Regression"
   ]
  },
  {
   "cell_type": "code",
   "execution_count": null,
   "id": "4385d09b-7ce7-49a7-8be2-3bee1d5f6ddd",
   "metadata": {
    "tags": []
   },
   "outputs": [],
   "source": [
    "Xc = model_data_cat.loc[~model_data_cat['dist_mi'].isna(), :].drop('dist_mi', axis = 1)\n",
    "yc = model_data_cat.loc[~model_data_cat['dist_mi'].isna(), 'dist_mi']\n",
    "Xc_train, Xc_test, yc_train, yc_test = train_test_split(Xc, yc, test_size = 0.2, random_state = 1000)\n",
    "# XYc_dmatrix = xgb.DMatrix(Xc, yc, enable_categorical = True, missing = np.NaN)\n",
    "\n",
    "scores = {'var':  'explained_variance', \n",
    "          'mae':  'neg_mean_absolute_error',\n",
    "          'rmse': 'neg_root_mean_squared_error',\n",
    "          'r2':   'r2'}\n",
    "\n",
    "# param_distributions = {\n",
    "#     'learning_rate': uniform(), \n",
    "#     'max_depth':     randint(2,   10), \n",
    "#     'n_estimators':  randint(100, 500), \n",
    "#     'reg_alpha':     uniform(0,   100)\n",
    "# }\n",
    "\n",
    "param_distributions = {\n",
    "    'learning_rate': [0.7130830849521742], \n",
    "    'max_depth':     [5], \n",
    "    'n_estimators':  [108], \n",
    "    'reg_alpha':     uniform()\n",
    "} \n",
    "\n",
    "rf_xgb0 = xgb.XGBRFRegressor(tree_method = 'gpu_hist',      enable_categorical = True, \\\n",
    "                             predictor   = 'gpu_predictor', random_state       = 1000)\n",
    "\n",
    "tune_search0 = TuneSearchCV(rf_xgb0, param_distributions, use_gpu = True, \\\n",
    "                            n_trials = 200, verbose = 2, time_budget_s = 1800, \\\n",
    "                            scoring  = scores, refit = 'r2')\n",
    "tune_search0.fit(Xc_train, yc_train)\n",
    "\n",
    "rf_xgb_pred   = tune_search0.predict(Xc_test)\n",
    "rf_xgb_params = tune_search0.best_params_\n",
    "\n",
    "## metrics\n",
    "rf_xgb_mae  = mean_absolute_error(yc_test, rf_xgb_pred)\n",
    "rf_xgb_mse  = mean_squared_error(yc_test,  rf_xgb_pred)\n",
    "rf_xgb_rmse = mean_squared_error(yc_test,  rf_xgb_pred, squared = False)\n",
    "rf_xgb_r2   = r2_score(yc_test, rf_xgb_pred)\n",
    "\n",
    "print(\"MAE:  {:.5f}\".format(rf_xgb_mae))\n",
    "print(\"MSE:  {:.5f}\".format(rf_xgb_mse))\n",
    "print(\"RMSE: {:.5f}\".format(rf_xgb_rmse))\n",
    "print(\"R\\u00b2:   {:.5f}\".format(rf_xgb_r2))"
   ]
  },
  {
   "cell_type": "code",
   "execution_count": null,
   "id": "5c2207da-401a-44a3-803f-4c1c20328262",
   "metadata": {},
   "outputs": [],
   "source": [
    "rf_xgb_params"
   ]
  },
  {
   "cell_type": "raw",
   "id": "774bd2ab-bb72-4409-a139-0fcc5963239f",
   "metadata": {},
   "source": [
    "MAE:  6.47560\n",
    "MSE:  214.23375\n",
    "RMSE: 107.11688\n",
    "R²:   0.36223\n",
    "\n",
    "{'learning_rate': 0.7130830849521742, 'n_estimators': 108, 'max_depth': 5}\n",
    "XGBRFRegressor(base_score=0.5, booster='gbtree', colsample_bylevel=1,\n",
    "               colsample_bytree=1, enable_categorical=True, gamma=0, gpu_id=0,\n",
    "               importance_type=None, interaction_constraints='',\n",
    "               learning_rate=0.7130830849521742, max_delta_step=0, max_depth=5,\n",
    "               min_child_weight=1, missing=nan, monotone_constraints='()',\n",
    "               n_estimators=108, n_jobs=16, num_parallel_tree=108,\n",
    "               objective='reg:squarederror', predictor='gpu_predictor',\n",
    "               random_state=1000, reg_alpha=0, scale_pos_weight=1,\n",
    "               tree_method='gpu_hist', validate_parameters=1, verbosity=None)\n",
    "               \n",
    "# Current best trial: 50a11_00020 with average_test_r2=-0.02915164216799746 \n",
    "# parameters={'learning_rate': 0.6870890139224495, 'max_depth': 1, 'n_estimators': 328, 'reg_alpha': 0.44619794415216374}\n",
    "# Current best trial: 50a11_00114 with average_test_r2=-0.026289646578693083 \n",
    "# parameters={'learning_rate': 0.7392823950407534, 'max_depth': 1, 'n_estimators': 132, 'reg_alpha': 0.10562867745011795}\n",
    "# Current best trial: c67fe_00019 with average_test_r2=-0.034867230809089954 \n",
    "# parameters={'learning_rate': 0.6709013150841515, 'max_depth': 5, 'n_estimators': 102, 'reg_alpha': 0.11618977250899681}"
   ]
  },
  {
   "cell_type": "code",
   "execution_count": null,
   "id": "e1456ef1-dc80-471e-bde7-b19525c3c715",
   "metadata": {},
   "outputs": [],
   "source": [
    "Xc = model_data_cat.loc[~model_data_cat['dist_mi'].isna(), :].drop('dist_mi', axis = 1)\n",
    "yc = model_data_cat.loc[~model_data_cat['dist_mi'].isna(), 'dist_mi']\n",
    "Xc_train, Xc_test, yc_train, yc_test = train_test_split(Xc, yc, test_size = 0.2, random_state = 1000)\n",
    "rf_xgb0 = xgb.XGBRFRegressor(learning_rate=0.7392823950407534, n_estimators=132, n_jobs=16, max_depth=1, \\\n",
    "                             predictor='gpu_predictor', random_state=1000, reg_alpha=0.10562867745011795, \\\n",
    "                             tree_method='gpu_hist')\n",
    "rf_xgb0.fit(Xc_train, yc_train)\n",
    "rf_xgb0_pred = rf_xgb0.predict(Xc_test)\n",
    "print(\"MAE:  {:.5f}\".format(mean_absolute_error(yc_test, rf_xgb0_pred)))\n",
    "print(\"MSE:  {:.5f}\".format(mean_squared_error(yc_test,  rf_xgb0_pred)))\n",
    "print(\"RMSE: {:.5f}\".format(mean_squared_error(yc_test,  rf_xgb0_pred, squared = False)))\n",
    "print(\"R\\u00b2:   {:.5f}\".format(r2_score(yc_test, rf_xgb0_pred)))\n",
    "rf_xgb0.save_model(\"rf0.json\")"
   ]
  },
  {
   "cell_type": "code",
   "execution_count": null,
   "id": "5282c911-75a3-47ea-b792-3393e737d6eb",
   "metadata": {},
   "outputs": [],
   "source": [
    "rf_xgb0.get_booster().feature_names"
   ]
  },
  {
   "cell_type": "code",
   "execution_count": null,
   "id": "4af047c4-f13e-4652-a744-c6f3b0a7dbf5",
   "metadata": {},
   "outputs": [],
   "source": [
    "rf_xgb0.feature_importances_"
   ]
  },
  {
   "cell_type": "code",
   "execution_count": null,
   "id": "67e958a4-610f-40af-b329-a733493aa267",
   "metadata": {},
   "outputs": [],
   "source": [
    "plt.rcParams['figure.figsize'] = (10, 8)\n",
    "xgb.plot_importance(rf_xgb0, importance_type = 'weight', max_num_features = 10)"
   ]
  },
  {
   "cell_type": "code",
   "execution_count": null,
   "id": "f9fffe2a-25e1-4fe8-a132-b11bb6793ac4",
   "metadata": {},
   "outputs": [],
   "source": [
    "plt.rcParams['figure.figsize'] = (20, 80)\n",
    "xgb.plot_tree(rf_xgb0)"
   ]
  },
  {
   "cell_type": "code",
   "execution_count": null,
   "id": "f0cc0005-abc2-482e-b5d3-b00ee015a4e2",
   "metadata": {
    "tags": []
   },
   "outputs": [],
   "source": [
    "tune_search0.best_estimator_.save_model(\"rf0.json\")\n",
    "print(tune_search0.best_estimator_)"
   ]
  },
  {
   "cell_type": "code",
   "execution_count": null,
   "id": "67e0da25-16a6-4c54-8dde-cb389ea8e160",
   "metadata": {},
   "outputs": [],
   "source": [
    "plt.rcParams['figure.figsize'] = (10, 8)\n",
    "xgb.plot_importance(tune_search0.best_estimator_, importance_type = 'weight', max_num_features = 10)"
   ]
  },
  {
   "cell_type": "code",
   "execution_count": null,
   "id": "a9cd2fa0-b50d-4dd1-a852-9065fad1e0fc",
   "metadata": {
    "tags": []
   },
   "outputs": [],
   "source": [
    "plt.rcParams['figure.figsize'] = (20, 80)\n",
    "xgb.plot_tree(tune_search0.best_estimator_)"
   ]
  },
  {
   "cell_type": "markdown",
   "id": "22450eb6-ce6c-401d-a491-ef2be9349314",
   "metadata": {},
   "source": [
    "### KNN (k = 1) Imputed Data, Random Forest Regression"
   ]
  },
  {
   "cell_type": "code",
   "execution_count": null,
   "id": "40731fec-6b14-489a-a4bc-f21cd952c0ca",
   "metadata": {
    "tags": []
   },
   "outputs": [],
   "source": [
    "Xck = knn_impute_data.drop('dist_mi', axis = 1)\n",
    "yck = knn_impute_data['dist_mi']\n",
    "Xck_train, Xck_test, yck_train, yck_test = train_test_split(Xck, yck, test_size = 0.2, random_state = 1000)\n",
    "# XYc_dmatrix = xgb.DMatrix(Xc, yc, enable_categorical = True, missing = np.NaN)\n",
    "\n",
    "scores = {'var':  'explained_variance', \n",
    "          'mae':  'neg_mean_absolute_error',\n",
    "          'rmse': 'neg_root_mean_squared_error',\n",
    "          'r2':   'r2'}\n",
    "\n",
    "param_distributions = {\n",
    "    'learning_rate':     uniform(0.775, 0.075), \n",
    "    'max_depth':         [5], \n",
    "    'n_estimators':      randint(190,   210), \n",
    "    'reg_alpha':         uniform(0.09,  0.005)\n",
    "}\n",
    "\n",
    "rf_xgb1 = xgb.XGBRFRegressor(tree_method = 'gpu_hist',      enable_categorical = True, \\\n",
    "                             predictor   = 'gpu_predictor', random_state       = 1000)\n",
    "\n",
    "tune_search1 = TuneSearchCV(rf_xgb1, param_distributions, use_gpu = True, \\\n",
    "                            n_trials = 100, verbose = 2, time_budget_s = 1800, \\\n",
    "                            scoring  = scores, refit = 'r2')\n",
    "tune_search1.fit(Xck_train, yck_train)\n",
    "\n",
    "rf_xgb_pred_ck   = tune_search1.predict(Xck_test)\n",
    "rf_xgb_ck_params = tune_search1.best_params_\n",
    "\n",
    "## metrics\n",
    "rf_xgb_mae_ck  = mean_absolute_error(yck_test, rf_xgb_pred_ck)\n",
    "rf_xgb_mse_ck  = mean_squared_error(yck_test,  rf_xgb_pred_ck)\n",
    "rf_xgb_rmse_ck = mean_squared_error(yck_test,  rf_xgb_pred_ck, squared = False)\n",
    "rf_xgb_r2_ck   = r2_score(yck_test, rf_xgb_pred_ck)\n",
    "\n",
    "print(\"MAE:  {:.5f}\".format(rf_xgb_mae_ck))\n",
    "print(\"MSE:  {:.5f}\".format(rf_xgb_mse_ck))\n",
    "print(\"RMSE: {:.5f}\".format(rf_xgb_rmse_ck))\n",
    "print(\"R\\u00b2:   {:.5f}\".format(rf_xgb_r2_ck))"
   ]
  },
  {
   "cell_type": "code",
   "execution_count": null,
   "id": "9d15721e-52dd-4600-acc9-ca6f4b2ee932",
   "metadata": {},
   "outputs": [],
   "source": [
    "rf_xgb_ck_params"
   ]
  },
  {
   "cell_type": "raw",
   "id": "147ea611-d1ef-4589-9b7a-dddcda79ef16",
   "metadata": {},
   "source": [
    "MMAE:  6.86115\n",
    "MSE:  302.71059\n",
    "RMSE: 17.39858\n",
    "R²:   0.39631\n",
    "\n",
    "learning_rate: 0.798024513521925\n",
    "max_depth: 5\n",
    "estimators: 199\n",
    "XGBRFRegressor(base_score=0.5, booster='gbtree', colsample_bylevel=1,\n",
    "               colsample_bytree=1, enable_categorical=True, gamma=0, gpu_id=0,\n",
    "               importance_type=None, interaction_constraints='',\n",
    "               learning_rate=0.798024513521925, max_delta_step=0, max_depth=5,\n",
    "               min_child_weight=1, missing=nan, monotone_constraints='()',\n",
    "               n_estimators=199, n_jobs=16, num_parallel_tree=199,\n",
    "               objective='reg:squarederror', predictor='gpu_predictor',\n",
    "               random_state=1000, reg_alpha=0, scale_pos_weight=1,\n",
    "               tree_method='gpu_hist', validate_parameters=1, verbosity=None)\n",
    "               \n",
    "MAE:  6.90411\n",
    "MSE:  297.77243\n",
    "RMSE: 17.25608\n",
    "R²:   0.40616\n",
    "\n",
    "learning_rate: 0.8185639068207481\n",
    "max_depth: 5\n",
    "estimators: 179\n",
    "alpha: 0.07798730763234137\n",
    "XGBRFRegressor(base_score=0.5, booster='gbtree', colsample_bylevel=1,\n",
    "               colsample_bytree=1, enable_categorical=True, gamma=0, gpu_id=0,\n",
    "               importance_type=None, interaction_constraints='',\n",
    "               learning_rate=0.8185639068207481, max_delta_step=0, max_depth=5,\n",
    "               min_child_weight=1, missing=nan, monotone_constraints='()',\n",
    "               n_estimators=179, n_jobs=16, num_parallel_tree=179,\n",
    "               objective='reg:squarederror', predictor='gpu_predictor',\n",
    "               random_state=1000, reg_alpha=0.07798730763234137,\n",
    "               scale_pos_weight=1, tree_method='gpu_hist',\n",
    "               validate_parameters=1, verbosity=None)\n",
    "               \n",
    "MAE:  6.78450\n",
    "MSE:  310.66634\n",
    "RMSE: 17.62573\n",
    "R²:   0.38045\n",
    "{'learning_rate': 0.7603243051637449, 'max_depth': 5, 'n_estimators': 174, 'reg_alpha': 0.09050070872126675}\n",
    "\n",
    "MAE:  6.67737\n",
    "MSE:  322.65097\n",
    "RMSE: 17.96249\n",
    "R²:   0.35655\n",
    "{'learning_rate': 0.701746103852242, 'max_depth': 5, 'n_estimators': 199, 'reg_alpha': 0.09540481348396135}\n",
    "XGBRFRegressor(base_score=0.5, booster='gbtree', colsample_bylevel=1,\n",
    "               colsample_bytree=1, enable_categorical=True, gamma=0, gpu_id=0,\n",
    "               importance_type=None, interaction_constraints='',\n",
    "               learning_rate=0.701746103852242, max_delta_step=0, max_depth=5,\n",
    "               min_child_weight=1, missing=nan, monotone_constraints='()',\n",
    "               n_estimators=199, n_jobs=16, num_parallel_tree=199,\n",
    "               objective='reg:squarederror', predictor='gpu_predictor',\n",
    "               random_state=1000, reg_alpha=0.09540481348396135,\n",
    "               scale_pos_weight=1, tree_method='gpu_hist',\n",
    "               validate_parameters=1, verbosity=None)\n",
    "               \n",
    "MAE:  6.77963\n",
    "MSE:  310.17855\n",
    "RMSE: 17.61189\n",
    "R²:   0.38142\n",
    "{'learning_rate': 0.7582933611753753, 'max_depth': 5, 'n_estimators': 201, 'reg_alpha': 0.09632581513777598}\n",
    "\n",
    "MAE:  6.84202\n",
    "MSE:  304.92568\n",
    "RMSE: 17.46212\n",
    "R²:   0.39190\n",
    "{'learning_rate': 0.7884670849841805, 'max_depth': 5, 'n_estimators': 200, 'reg_alpha': 0.09129354430264285}\n",
    "\n",
    "MAE:  6.76993\n",
    "MSE:  310.67545\n",
    "RMSE: 17.62599\n",
    "R²:   0.38043\n",
    "{'learning_rate': 0.75280026184128, 'max_depth': 5, 'n_estimators': 202, 'reg_alpha': 0.09313415905064293}\n",
    "\n",
    "MAE:  6.82190\n",
    "MSE:  305.80299\n",
    "RMSE: 17.48722\n",
    "R²:   0.39015\n",
    "{'learning_rate': 0.7796433693271403, 'max_depth': 5, 'n_estimators': 201, 'reg_alpha': 0.09327833924599428}\n",
    "\n",
    "MAE:  6.81821\n",
    "MSE:  305.76276\n",
    "RMSE: 17.48607\n",
    "R²:   0.39023\n",
    "{'learning_rate': 0.7771001963809601, 'max_depth': 5, 'n_estimators': 202, 'reg_alpha': 0.0954227727004286}"
   ]
  },
  {
   "cell_type": "code",
   "execution_count": 11,
   "id": "0ff1f594-272c-415c-8a5d-421634b9f85f",
   "metadata": {},
   "outputs": [
    {
     "name": "stdout",
     "output_type": "stream",
     "text": [
      "MAE:  6.90411\n",
      "MSE:  297.77243\n",
      "RMSE: 17.25608\n",
      "R²:   0.40616\n"
     ]
    }
   ],
   "source": [
    "Xck = knn_impute_data.drop('dist_mi', axis = 1)\n",
    "yck = knn_impute_data['dist_mi']\n",
    "Xck_train, Xck_test, yck_train, yck_test = train_test_split(Xck, yck, test_size = 0.2, random_state = 1000)\n",
    "rf_xgb1 = xgb.XGBRFRegressor(learning_rate= 0.8185639068207481, n_estimators=179, n_jobs=16, \\\n",
    "                             max_depth=5, predictor='gpu_predictor', random_state=1000, \\\n",
    "                             reg_alpha=0.07798730763234137, scale_pos_weight=1, tree_method='gpu_hist')\n",
    "rf_xgb1.fit(Xck_train, yck_train)\n",
    "rf_xgb1_pred = rf_xgb1.predict(Xck_test)\n",
    "print(\"MAE:  {:.5f}\".format(mean_absolute_error(yck_test, rf_xgb1_pred)))\n",
    "print(\"MSE:  {:.5f}\".format(mean_squared_error(yck_test,  rf_xgb1_pred)))\n",
    "print(\"RMSE: {:.5f}\".format(mean_squared_error(yck_test,  rf_xgb1_pred, squared = False)))\n",
    "print(\"R\\u00b2:   {:.5f}\".format(r2_score(yck_test, rf_xgb1_pred)))\n",
    "rf_xgb1.save_model(\"rf1.json\")"
   ]
  },
  {
   "cell_type": "code",
   "execution_count": 12,
   "id": "7d5582c4-17f7-4261-8df3-86069600486a",
   "metadata": {},
   "outputs": [
    {
     "data": {
      "text/plain": [
       "['age',\n",
       " 'cat_animal',\n",
       " 'cat_child',\n",
       " 'cat_health',\n",
       " 'cat_missingrunaway',\n",
       " 'cat_outdoors',\n",
       " 'cat_overdue',\n",
       " 'cat_vehicle',\n",
       " 'cat_water',\n",
       " 'cat_work',\n",
       " 'eco_div',\n",
       " 'population_density',\n",
       " 'state',\n",
       " 'terrain',\n",
       " 'total_hrs',\n",
       " 'total_notify_hrs',\n",
       " 'total_search_hrs',\n",
       " 'temp_max',\n",
       " 'temp_min',\n",
       " 'temp_avg',\n",
       " 'rain',\n",
       " 'snow_depth',\n",
       " 'year',\n",
       " 'month',\n",
       " 'season',\n",
       " 'lat',\n",
       " 'lon',\n",
       " 'cat_night']"
      ]
     },
     "execution_count": 12,
     "metadata": {},
     "output_type": "execute_result"
    }
   ],
   "source": [
    "rf_xgb1.get_booster().feature_names"
   ]
  },
  {
   "cell_type": "code",
   "execution_count": 13,
   "id": "1863d9a6-1fed-4e1b-8839-a71c16f14aad",
   "metadata": {},
   "outputs": [
    {
     "data": {
      "text/plain": [
       "array([0.08264914, 0.        , 0.00213466, 0.14097576, 0.00484559,\n",
       "       0.03763264, 0.        , 0.00053971, 0.        , 0.00479389,\n",
       "       0.10819753, 0.03300833, 0.02287868, 0.09932764, 0.05869352,\n",
       "       0.01271455, 0.06753068, 0.03318117, 0.01636551, 0.01604851,\n",
       "       0.05736415, 0.01025855, 0.10606041, 0.01449614, 0.00096467,\n",
       "       0.04636684, 0.0229717 , 0.        ], dtype=float32)"
      ]
     },
     "execution_count": 13,
     "metadata": {},
     "output_type": "execute_result"
    }
   ],
   "source": [
    "rf_xgb1.feature_importances_"
   ]
  },
  {
   "cell_type": "code",
   "execution_count": 14,
   "id": "94e5c070-53ca-4a8f-a687-777a484ea52f",
   "metadata": {},
   "outputs": [
    {
     "data": {
      "text/plain": [
       "<AxesSubplot:title={'center':'Feature importance'}, xlabel='F score', ylabel='Features'>"
      ]
     },
     "execution_count": 14,
     "metadata": {},
     "output_type": "execute_result"
    },
    {
     "data": {
      "image/png": "[encoded data removed]",
      "text/plain": [
       "<Figure size 720x576 with 1 Axes>"
      ]
     },
     "metadata": {
      "needs_background": "light"
     },
     "output_type": "display_data"
    }
   ],
   "source": [
    "plt.rcParams['figure.figsize'] = (10, 8)\n",
    "xgb.plot_importance(rf_xgb1, importance_type = 'weight', max_num_features = 10)"
   ]
  },
  {
   "cell_type": "code",
   "execution_count": 15,
   "id": "16814433-af28-4514-a474-51c5c217faae",
   "metadata": {},
   "outputs": [
    {
     "data": {
      "text/plain": [
       "<AxesSubplot:>"
      ]
     },
     "execution_count": 15,
     "metadata": {},
     "output_type": "execute_result"
    },
    {
     "data": {
      "image/png": "[encoded data removed]",
      "text/plain": [
       "<Figure size 1440x7200 with 1 Axes>"
      ]
     },
     "metadata": {
      "needs_background": "light"
     },
     "output_type": "display_data"
    }
   ],
   "source": [
    "plt.rcParams['figure.figsize'] = (20, 100)\n",
    "xgb.plot_tree(rf_xgb1)"
   ]
  },
  {
   "cell_type": "code",
   "execution_count": null,
   "id": "3ce9c74b-c1ad-4f2a-93dd-fc6f70b36f72",
   "metadata": {},
   "outputs": [],
   "source": [
    "tune_search1.best_estimator_.save_model(\"rf1.json\")\n",
    "print(tune_search1.best_estimator_)"
   ]
  },
  {
   "cell_type": "code",
   "execution_count": null,
   "id": "70099e64-2151-472b-9880-88316b1a774a",
   "metadata": {},
   "outputs": [],
   "source": [
    "plt.rcParams['figure.figsize'] = (10, 8)\n",
    "xgb.plot_importance(tune_search1.best_estimator_, importance_type = 'weight', max_num_features = 10)"
   ]
  },
  {
   "cell_type": "code",
   "execution_count": null,
   "id": "bfcce3fc-3a76-4527-8bd1-b847300cecfd",
   "metadata": {},
   "outputs": [],
   "source": [
    "plt.rcParams['figure.figsize'] = (20, 100)\n",
    "xgb.plot_tree(tune_search1.best_estimator_)"
   ]
  },
  {
   "cell_type": "markdown",
   "id": "1ddf1dd8-3930-4260-8a71-08621852eeba",
   "metadata": {},
   "source": [
    "### Standard Data, Boosted Regression"
   ]
  },
  {
   "cell_type": "code",
   "execution_count": null,
   "id": "9748ec45-e682-4ffa-b489-2003120ba493",
   "metadata": {
    "tags": []
   },
   "outputs": [],
   "source": [
    "Xc = model_data_cat.loc[~model_data_cat['dist_mi'].isna(), :].drop('dist_mi', axis = 1)\n",
    "yc = model_data_cat.loc[~model_data_cat['dist_mi'].isna(), 'dist_mi']\n",
    "Xc_train, Xc_test, yc_train, yc_test = train_test_split(Xc, yc, test_size = 0.2, random_state = 1000)\n",
    "# XYc_dmatrix = xgb.DMatrix(Xc, yc, enable_categorical = True, missing = np.NaN)\n",
    "\n",
    "param_distributions = {\n",
    "    'learning_rate':     [0.06196200767784121], \n",
    "    'max_depth':         [3], \n",
    "    'n_estimators':      [148], \n",
    "    'reg_alpha':         uniform(0, 0.01)\n",
    "}\n",
    "\"\"\"\n",
    "param_distributions = {\n",
    "    'learning_rate': uniform(), \n",
    "    'max_depth':     randint(2,   10), \n",
    "    'n_estimators':  randint(100, 500), \n",
    "    'reg_alpha':     uniform(0,   100)\n",
    "}\n",
    "\"\"\"\n",
    "reg_xgb0 = xgb.XGBRegressor(tree_method = 'gpu_hist',      enable_categorical = True, \\\n",
    "                            predictor   = 'gpu_predictor', random_state       = 1000)\n",
    "\n",
    "tune_search2 = TuneSearchCV(reg_xgb0, param_distributions, use_gpu = True, \\\n",
    "                            n_trials = 100, verbose = 2, time_budget_s = 1800, \\\n",
    "                            scoring  = scores, refit = 'r2') # , random_state = 1000\n",
    "tune_search2.fit(Xc_train, yc_train)\n",
    "\n",
    "reg_xgb_pred   = tune_search2.predict(Xc_test)\n",
    "reg_xgb_params = tune_search2.best_params_\n",
    "\n",
    "## metrics\n",
    "reg_xgb_mae  = mean_absolute_error(yc_test, reg_xgb_pred)\n",
    "reg_xgb_mse  = mean_squared_error(yc_test,  reg_xgb_pred)\n",
    "reg_xgb_rmse = mean_squared_error(yc_test,  reg_xgb_pred, squared = False)\n",
    "reg_xgb_r2   = r2_score(yc_test, reg_xgb_pred)\n",
    "\n",
    "print(\"MAE:  {:.5f}\".format(reg_xgb_mae))\n",
    "print(\"MSE:  {:.5f}\".format(reg_xgb_mse))\n",
    "print(\"RMSE: {:.5f}\".format(reg_xgb_rmse))\n",
    "print(\"R\\u00b2:   {:.5f}\".format(reg_xgb_r2))"
   ]
  },
  {
   "cell_type": "code",
   "execution_count": null,
   "id": "8eb30ac0-ba2e-4dc2-81a7-3ed89e62b6da",
   "metadata": {},
   "outputs": [],
   "source": [
    "reg_xgb_params"
   ]
  },
  {
   "cell_type": "raw",
   "id": "77b0a140-e618-4068-976e-9ca12795ba78",
   "metadata": {},
   "source": [
    "MAE:  7.16500\n",
    "MSE:  213.49221\n",
    "RMSE: 14.61137\n",
    "R²:   -0.05166\n",
    "\n",
    "{'learning_rate': 0.06196200767784121,\n",
    " 'max_depth': 3,\n",
    " 'n_estimators': 148,\n",
    " 'reg_alpha': 0.0021683266736677075}"
   ]
  },
  {
   "cell_type": "code",
   "execution_count": null,
   "id": "e24ac0e9-0eb7-420a-a997-66b1d4a2b79f",
   "metadata": {},
   "outputs": [],
   "source": [
    "reg_xgb0 = xgb.XGBRFRegressor(learning_rate= 0.06196200767784121, n_estimators=148, n_jobs=16, \\\n",
    "                            max_depth = 3, predictor='gpu_predictor', random_state=1000, \\\n",
    "                            reg_alpha=0, scale_pos_weight=1, tree_method='gpu_hist')\n",
    "reg_xgb0.fit(Xc_train, yc_train)\n",
    "reg_xgb0_pred   = reg_xgb0.predict(Xc_test)\n",
    "print(\"MAE:  {:.5f}\".format(mean_absolute_error(yc_test, reg_xgb0_pred)))\n",
    "print(\"MSE:  {:.5f}\".format(mean_squared_error(yc_test,  reg_xgb0_pred)))\n",
    "print(\"RMSE: {:.5f}\".format(mean_squared_error(yc_test,  reg_xgb0_pred, squared = False)))\n",
    "print(\"R\\u00b2:   {:.5f}\".format(r2_score(yc_test, reg_xgb0_pred)))\n",
    "reg_xgb0.save_model(\"reg0.json\")"
   ]
  },
  {
   "cell_type": "code",
   "execution_count": null,
   "id": "2c049ce0-17ea-4eb8-931c-8768b245b757",
   "metadata": {},
   "outputs": [],
   "source": [
    "plt.rcParams['figure.figsize'] = (10, 8)\n",
    "xgb.plot_importance(reg_xgb0, importance_type = 'weight', max_num_features = 10)"
   ]
  },
  {
   "cell_type": "code",
   "execution_count": null,
   "id": "b66eabca-22d2-442a-86a8-7ef6fb63bcbc",
   "metadata": {},
   "outputs": [],
   "source": [
    "plt.rcParams['figure.figsize'] = (20, 80)\n",
    "xgb.plot_tree(reg_xgb0)"
   ]
  },
  {
   "cell_type": "code",
   "execution_count": null,
   "id": "8214ae10-dac7-4714-889c-9a7c2137781c",
   "metadata": {},
   "outputs": [],
   "source": [
    "tune_search2.best_estimator_.save_model(\"reg0.json\")\n",
    "print(tune_search2.best_estimator_)"
   ]
  },
  {
   "cell_type": "code",
   "execution_count": null,
   "id": "de2d8333-f6d7-4a6b-9c2f-8658042b44a0",
   "metadata": {},
   "outputs": [],
   "source": [
    "plt.rcParams['figure.figsize'] = (10, 8)\n",
    "xgb.plot_importance(tune_search2.best_estimator_, importance_type = 'weight', max_num_features = 10)"
   ]
  },
  {
   "cell_type": "code",
   "execution_count": null,
   "id": "7c63b94b-cdce-40fc-9e52-6ae43d859165",
   "metadata": {},
   "outputs": [],
   "source": [
    "plt.rcParams['figure.figsize'] = (20, 80)\n",
    "xgb.plot_tree(tune_search2.best_estimator_)"
   ]
  },
  {
   "cell_type": "markdown",
   "id": "c6ba1ddd-3cf8-4bc7-b4d5-8433fefef5f9",
   "metadata": {},
   "source": [
    "### KNN (k = 1) Imputed Data, Boosted Regression"
   ]
  },
  {
   "cell_type": "code",
   "execution_count": null,
   "id": "a859b83b-de24-4a92-b90d-453ec1492476",
   "metadata": {
    "tags": []
   },
   "outputs": [],
   "source": [
    "Xck = knn_impute_data.drop('dist_mi', axis = 1)\n",
    "yck = knn_impute_data['dist_mi']\n",
    "Xck_train, Xck_test, yck_train, yck_test = train_test_split(Xck, yck, test_size = 0.2, random_state = 1000)\n",
    "# XYc_dmatrix = xgb.DMatrix(Xc, yc, enable_categorical = True, missing = np.NaN)\n",
    "\n",
    "param_distributions = {\n",
    "    'learning_rate': uniform(0.02, 0.03), \n",
    "    'max_depth':     [3],\n",
    "    'n_estimators': randint(280,  320), \n",
    "    'reg_alpha':    uniform(0.03, 0.05)\n",
    "}\n",
    "\"\"\"\n",
    "param_distributions = {\n",
    "    'learning_rate': uniform(), \n",
    "    'max_depth':     randint(2,   10), \n",
    "    'n_estimators':  randint(100, 500), \n",
    "    'reg_alpha':     uniform(0,   100)\n",
    "}\n",
    "\"\"\"\n",
    "reg_xgb1 = xgb.XGBRegressor(tree_method = 'gpu_hist',      enable_categorical = True, \\\n",
    "                            predictor   = 'gpu_predictor', random_state       = 1000)\n",
    "\n",
    "tune_search3 = TuneSearchCV(reg_xgb1, param_distributions, use_gpu = True, \\\n",
    "                            n_trials = 100, verbose = 2, time_budget_s = 1800, \\\n",
    "                            scoring  = scores, refit = 'r2')\n",
    "tune_search3.fit(Xck_train, yck_train)\n",
    "\n",
    "reg_xgb_pred_ck   = tune_search3.predict(Xck_test)\n",
    "reg_xgb_ck_params = tune_search3.best_params_\n",
    "\n",
    "## metrics\n",
    "reg_xgb_mae_ck  = mean_absolute_error(yck_test, reg_xgb_pred_ck)\n",
    "reg_xgb_mse_ck  = mean_squared_error(yck_test,  reg_xgb_pred_ck)\n",
    "reg_xgb_rmse_ck = mean_squared_error(yck_test,  reg_xgb_pred_ck, squared = False)\n",
    "reg_xgb_r2_ck   = r2_score(yck_test, reg_xgb_pred_ck)\n",
    "\n",
    "print(\"MAE:  {:.5f}\".format(reg_xgb_mae_ck))\n",
    "print(\"MSE:  {:.5f}\".format(reg_xgb_mse_ck))\n",
    "print(\"RMSE: {:.5f}\".format(reg_xgb_rmse_ck))\n",
    "print(\"R\\u00b2:   {:.5f}\".format(reg_xgb_r2_ck))"
   ]
  },
  {
   "cell_type": "code",
   "execution_count": null,
   "id": "dd98da8c-ab61-4a39-a769-de232a90e344",
   "metadata": {},
   "outputs": [],
   "source": [
    "reg_xgb_ck_params"
   ]
  },
  {
   "cell_type": "code",
   "execution_count": null,
   "id": "f557ce6f-8d70-486c-8a83-c35d82dbfbf6",
   "metadata": {},
   "outputs": [],
   "source": [
    "reg_xgb1 = xgb.XGBRegressor(learning_rate= 0.09066505982887307, n_estimators=130, n_jobs=16, max_depth=3, \\\n",
    "                            predictor='gpu_predictor', random_state=1000, reg_alpha=0.0010597853897286237, \\\n",
    "                            tree_method='gpu_hist')\n",
    "reg_xgb1.fit(Xck_train, yck_train)\n",
    "reg_xgb1_pred = reg_xgb1.predict(Xck_test)\n",
    "print(\"MAE:  {:.5f}\".format(mean_absolute_error(yck_test, reg_xgb1_pred)))\n",
    "print(\"MSE:  {:.5f}\".format(mean_squared_error(yck_test,  reg_xgb1_pred)))\n",
    "print(\"RMSE: {:.5f}\".format(mean_squared_error(yck_test,  reg_xgb1_pred, squared = False)))\n",
    "print(\"R\\u00b2:   {:.5f}\".format(r2_score(yck_test, reg_xgb1_pred)))\n",
    "reg_xgb1.save_model(\"reg1.json\")"
   ]
  },
  {
   "cell_type": "code",
   "execution_count": null,
   "id": "baa414e0-28d8-4b9d-a018-ce7d9c0c43d1",
   "metadata": {},
   "outputs": [],
   "source": [
    "plt.rcParams['figure.figsize'] = (10, 8)\n",
    "xgb.plot_importance(reg_xgb1, importance_type = 'weight', max_num_features = 10)"
   ]
  },
  {
   "cell_type": "code",
   "execution_count": null,
   "id": "202d6342-7343-4dd9-93ec-5aaafa0fe518",
   "metadata": {},
   "outputs": [],
   "source": [
    "plt.rcParams['figure.figsize'] = (20, 80)\n",
    "xgb.plot_tree(reg_xgb1)"
   ]
  },
  {
   "cell_type": "raw",
   "id": "10a0de59-7111-4efb-a380-819ad4d3eb43",
   "metadata": {},
   "source": [
    "MAE:  7.46092\n",
    "MSE:  302.29482\n",
    "RMSE: 17.38663\n",
    "R²:   0.39714\n",
    "{'learning_rate': 0.09066505982887307, 'max_depth': 3, 'n_estimators': 130, 'reg_alpha': 0.0010597853897286237}\n",
    "XGBRegressor(base_score=0.5, booster='gbtree', colsample_bylevel=1,\n",
    "             colsample_bynode=1, colsample_bytree=1, enable_categorical=True,\n",
    "             gamma=0, gpu_id=0, importance_type=None,\n",
    "             interaction_constraints='', learning_rate=0.09066505982887307,\n",
    "             max_delta_step=0, max_depth=3, min_child_weight=1, missing=nan,\n",
    "             monotone_constraints='()', n_estimators=130, n_jobs=16,\n",
    "             num_parallel_tree=1, predictor='gpu_predictor', random_state=1000,\n",
    "             reg_alpha=0.0010597853897286237, reg_lambda=1, scale_pos_weight=1,\n",
    "             subsample=1, tree_method='gpu_hist', validate_parameters=1,\n",
    "             verbosity=None)\n",
    "             \n",
    "MAE:  7.46489\n",
    "MSE:  354.20488\n",
    "RMSE: 18.82033\n",
    "R²:   0.29362\n",
    "{'learning_rate': 0.015505143959505852, 'max_depth': 3, 'n_estimators': 355, 'reg_alpha': 0.06888306298620195}\n",
    "XGBRegressor(base_score=0.5, booster='gbtree', colsample_bylevel=1,\n",
    "             colsample_bynode=1, colsample_bytree=1, enable_categorical=True,\n",
    "             gamma=0, gpu_id=0, importance_type=None,\n",
    "             interaction_constraints='', learning_rate=0.09066505982887307,\n",
    "             max_delta_step=0, max_depth=3, min_child_weight=1, missing=nan,\n",
    "             monotone_constraints='()', n_estimators=130, n_jobs=16,\n",
    "             num_parallel_tree=1, predictor='gpu_predictor', random_state=1000,\n",
    "             reg_alpha=0.0010597853897286237, reg_lambda=1, scale_pos_weight=1,\n",
    "             subsample=1, tree_method='gpu_hist', validate_parameters=1,\n",
    "             verbosity=None)\n",
    "             \n",
    "MAE:  7.48535\n",
    "MSE:  346.38912\n",
    "RMSE: 18.61153\n",
    "R²:   0.30921\n",
    "{'learning_rate': 0.02078171659851114, 'max_depth': 3, 'n_estimators': 299, 'reg_alpha': 0.039243154214497866}\n",
    "XGBRegressor(base_score=0.5, booster='gbtree', colsample_bylevel=1,\n",
    "             colsample_bynode=1, colsample_bytree=1, enable_categorical=True,\n",
    "             gamma=0, gpu_id=0, importance_type=None,\n",
    "             interaction_constraints='', learning_rate=0.02078171659851114,\n",
    "             max_delta_step=0, max_depth=3, min_child_weight=1, missing=nan,\n",
    "             monotone_constraints='()', n_estimators=299, n_jobs=16,\n",
    "             num_parallel_tree=1, predictor='gpu_predictor', random_state=1000,\n",
    "             reg_alpha=0.039243154214497866, reg_lambda=1, scale_pos_weight=1,\n",
    "             subsample=1, tree_method='gpu_hist', validate_parameters=1,\n",
    "             verbosity=None)\n",
    "             \n",
    "MAE:  7.47476\n",
    "MSE:  355.59821\n",
    "RMSE: 18.85731\n",
    "R²:   0.29084\n",
    "{'learning_rate': 0.01557167835022223, 'max_depth': 3, 'n_estimators': 331, 'reg_alpha': 0.0957953408291152}\n",
    "XGBRegressor(base_score=0.5, booster='gbtree', colsample_bylevel=1,\n",
    "             colsample_bynode=1, colsample_bytree=1, enable_categorical=True,\n",
    "             gamma=0, gpu_id=0, importance_type=None,\n",
    "             interaction_constraints='', learning_rate=0.01557167835022223,\n",
    "             max_delta_step=0, max_depth=3, min_child_weight=1, missing=nan,\n",
    "             monotone_constraints='()', n_estimators=331, n_jobs=16,\n",
    "             num_parallel_tree=1, predictor='gpu_predictor', random_state=1000,\n",
    "             reg_alpha=0.0957953408291152, reg_lambda=1, scale_pos_weight=1,\n",
    "             subsample=1, tree_method='gpu_hist', validate_parameters=1,\n",
    "             verbosity=None)\n",
    "             \n",
    "MAE:  7.47509\n",
    "MSE:  345.79461\n",
    "RMSE: 18.59555\n",
    "R²:   0.31039\n",
    "{'learning_rate': 0.020828643354706498, 'max_depth': 3, 'n_estimators': 293, 'reg_alpha': 0.030832217581601987}"
   ]
  },
  {
   "cell_type": "code",
   "execution_count": null,
   "id": "98c2b76d-7905-4d11-bf0f-420dd31712c6",
   "metadata": {},
   "outputs": [],
   "source": [
    "tune_search3.best_estimator_.save_model(\"reg1.json\")\n",
    "print(tune_search3.best_estimator_)"
   ]
  },
  {
   "cell_type": "code",
   "execution_count": null,
   "id": "c639d408-f0f9-4478-a529-4813a9615ccd",
   "metadata": {},
   "outputs": [],
   "source": [
    "plt.rcParams['figure.figsize'] = (10, 8)\n",
    "xgb.plot_importance(tune_search3.best_estimator_, importance_type = 'weight', max_num_features = 10)"
   ]
  },
  {
   "cell_type": "code",
   "execution_count": null,
   "id": "69989869-2819-4ca7-8fb2-ff1d24857744",
   "metadata": {},
   "outputs": [],
   "source": [
    "plt.rcParams['figure.figsize'] = (20, 80)\n",
    "xgb.plot_tree(tune_search3.best_estimator_)"
   ]
  },
  {
   "cell_type": "markdown",
   "id": "798bd4ef-aac8-4584-9afa-7d67bc901543",
   "metadata": {},
   "source": [
    "## Treat Predictor as Categorical\n",
    "\n",
    "Searches for search and rescue attempts generally are not precise affairs; what if the distance to search were binned into categories, in order to give searches approximate guidelines on how far to search?"
   ]
  },
  {
   "cell_type": "code",
   "execution_count": null,
   "id": "575c1de5-61a5-4082-8e83-b27e5428817d",
   "metadata": {},
   "outputs": [],
   "source": [
    "model_data_catpred = pd.read_csv(latest_file('model_data_catnumeric'), low_memory = False)\\\n",
    "                       .set_index('id').drop('outcome', axis = 1)\n",
    "knn_impute_catpred = pd.read_csv(latest_file('knn_impute_data'),       low_memory = False)\\\n",
    "                       .set_index('id').drop('outcome', axis = 1)\n",
    "rf_impute_catpred  = pd.read_csv(latest_file('rf_impute_data'),        low_memory = False)\\\n",
    "                       .set_index('id').drop('outcome', axis = 1)\n",
    "\n",
    "model_data_catpred['dist_mi'] = pd.cut(model_data_catpred['dist_mi'], \\\n",
    "                                       bins = [0, 1, 2, 5, 10, 1000], \n",
    "                                       labels = [2, 1, 0, -1, -2])\n",
    "knn_impute_catpred['dist_mi'] = pd.cut(knn_impute_catpred['dist_mi'], \\\n",
    "                                       bins = [0, 1, 2, 5, 10, 1000], \n",
    "                                       labels = [2, 1, 0, -1, -2])\n",
    "rf_impute_catpred['dist_mi']  = pd.cut(rf_impute_catpred['dist_mi'], \\\n",
    "                                       bins = [0, 1, 2, 5, 10, 1000], \n",
    "                                       labels = [2, 1, 0, -1, -2])\n",
    "def convert_categorical(df, list_cats):\n",
    "    for col in list_cats:\n",
    "        df[col] = df[col].astype('category')\n",
    "        label = LabelEncoder()\n",
    "        label.fit(list(df[col].values))\n",
    "        df[col] = label.transform(list(df[col].values))\n",
    "    return df\n",
    "## excluding 'outcome'\n",
    "cat_cols_incl_dist = [i for i in model_data.columns if i.startswith('cat')] + \\\n",
    "                     ['dist_mi', 'eco_div', 'month', 'season', 'state', 'terrain', 'year']\n",
    "\n",
    "model_data_catpred = convert_categorical(model_data_catpred, cat_cols_incl_dist)\n",
    "knn_impute_catpred = convert_categorical(knn_impute_catpred, cat_cols_incl_dist)\n",
    "rf_impute_catpred  = convert_categorical(rf_impute_catpred,  cat_cols_incl_dist)"
   ]
  },
  {
   "cell_type": "markdown",
   "id": "63bf7a1c-2257-496f-81f4-5d46e108e528",
   "metadata": {},
   "source": [
    "### Standard Data, Random Forest Classification"
   ]
  },
  {
   "cell_type": "code",
   "execution_count": null,
   "id": "75185ad4-0fd8-4e23-926b-3abe680be885",
   "metadata": {},
   "outputs": [],
   "source": [
    "Xcat = model_data_catpred.loc[~model_data_catpred['dist_mi'].isna(), :].drop('dist_mi', axis = 1)\n",
    "ycat = model_data_catpred.loc[~model_data_catpred['dist_mi'].isna(), 'dist_mi']\n",
    "Xcat_train, Xcat_test, ycat_train, ycat_test = train_test_split(Xcat, ycat, test_size = 0.2, random_state = 1000)\n",
    "\n",
    "param_distributions = {\n",
    "    'learning_rate': uniform(0.6, 0.3), \n",
    "    'max_depth':     [6], \n",
    "    'n_estimators':  randint(160, 180), \n",
    "    'reg_alpha':     uniform(0.7, 0.1)\n",
    "}\n",
    "\"\"\"\n",
    "param_distributions = {\n",
    "    'learning_rate': uniform(), \n",
    "    'max_depth':     randint(2,   10), \n",
    "    'n_estimators':  randint(100, 500), \n",
    "    'reg_alpha':     uniform(0,   100)\n",
    "}\n",
    "\"\"\"\n",
    "rf_xgb2 = xgb.XGBRFClassifier(tree_method = 'gpu_hist',      enable_categorical = True, \\\n",
    "                              predictor   = 'gpu_predictor', random_state       = 1000, \\\n",
    "                              objective   = 'mlogloss')\n",
    "\n",
    "tune_search4 = TuneSearchCV(rf_xgb2, param_distributions, use_gpu = True, \\\n",
    "                            n_trials = 100, verbose = 2, time_budget_s = 1200)\n",
    "tune_search4.fit(Xcat_train, ycat_train)\n",
    "\n",
    "rf_xgb2_pred   = tune_search4.predict(Xcat_test)\n",
    "rf_xgb2_params = tune_search4.best_params_\n",
    "\n",
    "## metrics\n",
    "rf_xgb2_acc = accuracy_score(ycat_test,  rf_xgb2_pred, normalize = True)\n",
    "rf_xgb2_f1  = f1_score(ycat_test,        rf_xgb2_pred, average   = 'macro')\n",
    "rf_xgb2_pre = precision_score(ycat_test, rf_xgb2_pred, average   = 'macro')\n",
    "rf_xgb2_rec = recall_score(ycat_test,    rf_xgb2_pred, average   = 'macro')\n",
    "\n",
    "print(\"Accuracy:  {:.5f}\".format(rf_xgb2_acc))\n",
    "print(\"F-score:   {:.5f}\".format(rf_xgb2_f1))\n",
    "print(\"Precision: {:.5f}\".format(rf_xgb2_pre))\n",
    "print(\"Recall:    {:.5f}\".format(rf_xgb2_rec))"
   ]
  },
  {
   "cell_type": "code",
   "execution_count": null,
   "id": "1612fe72-61f5-4451-a83b-42a909386af6",
   "metadata": {},
   "outputs": [],
   "source": [
    "Xcat = model_data_catpred.loc[~model_data_catpred['dist_mi'].isna(), :].drop('dist_mi', axis = 1)\n",
    "ycat = model_data_catpred.loc[~model_data_catpred['dist_mi'].isna(), 'dist_mi']\n",
    "Xcat_train, Xcat_test, ycat_train, ycat_test = train_test_split(Xcat, ycat, test_size = 0.2, random_state = 1000)\n",
    "\n",
    "rf_xgb2 = xgb.XGBRFClassifier(learning_rate=0.7382878697739075, n_estimators=169, n_jobs=16, max_depth=6, \\\n",
    "                              predictor='gpu_predictor', random_state=1000, reg_alpha=0.7396376836352886, \\\n",
    "                              tree_method='gpu_hist')\n",
    "rf_xgb2.fit(Xcat_train, ycat_train)\n",
    "rf_xgb2_pred = rf_xgb2.predict(Xcat_test)\n",
    "print(\"Accuracy:  {:.5f}\".format(accuracy_score(ycat_test,  rf_xgb2_pred, normalize = True)))\n",
    "print(\"F-score:   {:.5f}\".format(f1_score(ycat_test,        rf_xgb2_pred, average   = 'macro')))\n",
    "print(\"Precision: {:.5f}\".format(precision_score(ycat_test, rf_xgb2_pred, average   = 'macro')))\n",
    "print(\"Recall:    {:.5f}\".format(recall_score(ycat_test,    rf_xgb2_pred, average   = 'macro')))\n",
    "rf_xgb2.save_model(\"rf2.json\")"
   ]
  },
  {
   "cell_type": "code",
   "execution_count": null,
   "id": "9fd09e1d-ae93-43cd-9e9e-9c3e02022e4a",
   "metadata": {},
   "outputs": [],
   "source": [
    "plt.rcParams['figure.figsize'] = (10, 8)\n",
    "xgb.plot_importance(rf_xgb2, importance_type = 'weight', max_num_features = 10)"
   ]
  },
  {
   "cell_type": "code",
   "execution_count": null,
   "id": "732a51a7-6727-4fd2-a277-398f5d3f818b",
   "metadata": {},
   "outputs": [],
   "source": [
    "plt.rcParams['figure.figsize'] = (20, 80)\n",
    "xgb.plot_tree(rf_xgb2)"
   ]
  },
  {
   "cell_type": "raw",
   "id": "a990c166-a23d-4fc4-9698-f61794101582",
   "metadata": {},
   "source": [
    "# Current best trial: 6efb1_00007 with average_test_score=0.6914498141263941 \n",
    "# parameters={'learning_rate': 0.9820274845981977, 'max_depth': 6, 'n_estimators': 111, 'reg_alpha': 0.7066871938888039}\n",
    "\n",
    "# Current best trial: 6efb1_00040 with average_test_score=0.6915985130111524 \n",
    "# parameters={'learning_rate': 0.5417779257734663, 'max_depth': 6, 'n_estimators': 371, 'reg_alpha': 0.4438555930724907}\n",
    "\n",
    "# Current best trial: f1973_00000 with average_test_score=0.6915985130111524 \n",
    "# parameters={'learning_rate': 0.273942947596331, 'max_depth': 5, 'n_estimators': 240, 'reg_alpha': 0.7253663620257169}\n",
    "\n",
    "# Current best trial: dffae_00002 with average_test_score=0.691895910780669 \n",
    "# parameters={'learning_rate': 0.8724310737348964, 'max_depth': 6, 'n_estimators': 166, 'reg_alpha': 0.7030428001571385}\n",
    "\n",
    "# Current best trial: dffae_00019 with average_test_score=0.6920446096654275 \n",
    "# parameters={'learning_rate': 0.6322805223041545, 'max_depth': 6, 'n_estimators': 164, 'reg_alpha': 0.7110363613089142}\n",
    "\n",
    "# Current best trial: 14ff5_00000 with average_test_score=0.6929368029739776 \n",
    "# parameters={'learning_rate': 0.8267947927323047, 'max_depth': 6, 'n_estimators': 171, 'reg_alpha': 1.0103829663267945}\n",
    "\n",
    "# Current best trial: 14ff5_00008 with average_test_score=0.6929368029739778 \n",
    "# parameters={'learning_rate': 0.7382878697739075, 'max_depth': 6, 'n_estimators': 169, 'reg_alpha': 0.7396376836352886}"
   ]
  },
  {
   "cell_type": "code",
   "execution_count": null,
   "id": "d861a3ba-721c-4d58-9383-7980caa1ee08",
   "metadata": {},
   "outputs": [],
   "source": [
    "rf_xgb2_params"
   ]
  },
  {
   "cell_type": "code",
   "execution_count": null,
   "id": "f26bcd9e-8e9a-465b-b515-cac5b48c6bad",
   "metadata": {},
   "outputs": [],
   "source": [
    "tune_search4.best_estimator_.save_model(\"rf2.json\")\n",
    "print(tune_search4.best_estimator_)"
   ]
  },
  {
   "cell_type": "code",
   "execution_count": null,
   "id": "4ee9d975-6f97-42e0-8737-4245d56f0128",
   "metadata": {},
   "outputs": [],
   "source": [
    "plt.rcParams['figure.figsize'] = (10, 8)\n",
    "xgb.plot_importance(tune_search4.best_estimator_, importance_type = 'weight', max_num_features = 10)"
   ]
  },
  {
   "cell_type": "code",
   "execution_count": null,
   "id": "13e79e2f-9e58-48b4-880e-b336af1c01b2",
   "metadata": {},
   "outputs": [],
   "source": [
    "plt.rcParams['figure.figsize'] = (20, 80)\n",
    "xgb.plot_tree(tune_search4.best_estimator_)"
   ]
  },
  {
   "cell_type": "markdown",
   "id": "bc4aa5fc-b3fd-4604-82f0-f24acb29db34",
   "metadata": {},
   "source": [
    "### KNN (k = 1) Imputed Data, Random Forest Classification"
   ]
  },
  {
   "cell_type": "code",
   "execution_count": null,
   "id": "c00c5b59-68e3-487d-82b1-3b48700a99e1",
   "metadata": {
    "tags": []
   },
   "outputs": [],
   "source": [
    "Xcatk = knn_impute_catpred.drop('dist_mi', axis = 1)\n",
    "ycatk = knn_impute_catpred['dist_mi']\n",
    "Xcatk_train, Xcatk_test, ycatk_train, ycatk_test = train_test_split(Xcatk, ycatk, test_size = 0.2, random_state = 1000)\n",
    "\n",
    "param_distributions = {\n",
    "    'learning_rate': uniform(0.0,  0.3), \n",
    "    'max_depth':     [9], \n",
    "    'n_estimators':  randint(60,   120), \n",
    "    'reg_alpha':     uniform(0.3,  0.5)\n",
    "}\n",
    "\n",
    "rf_xgb3 = xgb.XGBRFClassifier(tree_method = 'gpu_hist',      enable_categorical = True, \\\n",
    "                              predictor   = 'gpu_predictor', random_state       = 1000, \\\n",
    "                              objective   = 'multi:softprob')\n",
    "\n",
    "tune_search5 = TuneSearchCV(rf_xgb3, param_distributions, use_gpu = True, \\\n",
    "                            n_trials = 100, verbose = 2, time_budget_s = 1200)\n",
    "tune_search5.fit(Xcatk_train, ycatk_train)\n",
    "\n",
    "rf_xgb3_pred   = tune_search5.predict(Xcatk_test)\n",
    "rf_xgb3_params = tune_search5.best_params_\n",
    "\n",
    "## metrics\n",
    "rf_xgb3_acc = accuracy_score(ycatk_test,  rf_xgb3_pred, normalize = True)\n",
    "rf_xgb3_f1  = f1_score(ycatk_test,        rf_xgb3_pred, average   = 'macro')\n",
    "rf_xgb3_pre = precision_score(ycatk_test, rf_xgb3_pred, average   = 'macro')\n",
    "rf_xgb3_rec = recall_score(ycatk_test,    rf_xgb3_pred, average   = 'macro')\n",
    "\n",
    "print(\"Accuracy:  {:.5f}\".format(rf_xgb3_acc))\n",
    "print(\"F-score:   {:.5f}\".format(rf_xgb3_f1))\n",
    "print(\"Precision: {:.5f}\".format(rf_xgb3_pre))\n",
    "print(\"Recall:    {:.5f}\".format(rf_xgb3_rec))"
   ]
  },
  {
   "cell_type": "code",
   "execution_count": null,
   "id": "d120533b-ab1d-48ef-8903-03db18c9d9d4",
   "metadata": {},
   "outputs": [],
   "source": [
    "rf_xgb3_params"
   ]
  },
  {
   "cell_type": "code",
   "execution_count": null,
   "id": "9bf42f18-2711-4401-8c9b-fa5a60b631f5",
   "metadata": {},
   "outputs": [],
   "source": [
    "Xcatk = knn_impute_catpred.drop('dist_mi', axis = 1)\n",
    "ycatk = knn_impute_catpred['dist_mi']\n",
    "Xcatk_train, Xcatk_test, ycatk_train, ycatk_test = train_test_split(Xcatk, ycatk, test_size = 0.2, random_state = 1000)\n",
    "\n",
    "rf_xgb3 = xgb.XGBRFClassifier(learning_rate=0.21703389812478247, n_estimators=102, n_jobs=16, max_depth=9, \\\n",
    "                              predictor='gpu_predictor', random_state=1000, reg_alpha=0.689362851255999, \\\n",
    "                              tree_method='gpu_hist')\n",
    "rf_xgb3.fit(Xcat_train, ycat_train)\n",
    "rf_xgb3_pred = rf_xgb2.predict(Xcat_test)\n",
    "print(\"Accuracy:  {:.5f}\".format(accuracy_score(ycat_test,  rf_xgb3_pred, normalize = True)))\n",
    "print(\"F-score:   {:.5f}\".format(f1_score(ycat_test,        rf_xgb3_pred, average   = 'macro')))\n",
    "print(\"Precision: {:.5f}\".format(precision_score(ycat_test, rf_xgb3_pred, average   = 'macro')))\n",
    "print(\"Recall:    {:.5f}\".format(recall_score(ycat_test,    rf_xgb3_pred, average   = 'macro')))\n",
    "rf_xgb3.save_model(\"rf2.json\")"
   ]
  },
  {
   "cell_type": "raw",
   "id": "b99a33e1-9a49-4480-8b4f-0f103aa17489",
   "metadata": {},
   "source": [
    "# Current best trial: 1a5e7_00004 with average_test_score=0.3894423791821562 \n",
    "# parameters={'learning_rate': 0.9783988186460514, 'max_depth': 9, 'n_estimators': 469, 'reg_alpha': 0.3104815748488601}\n",
    "\n",
    "# Current best trial: 12e75_00003 with average_test_score=0.39182156133828994 \n",
    "# parameters={'learning_rate': 0.04780668252003402, 'max_depth': 9, 'n_estimators': 68, 'reg_alpha': 0.30244942640003025}\n",
    "\n",
    "# Current best trial: 1a5e7_00014 with average_test_score=0.3919702602230483 \n",
    "# parameters={'learning_rate': 0.21703389812478247, 'max_depth': 9, 'n_estimators': 102, 'reg_alpha': 0.689362851255999}\n",
    "\n",
    "Accuracy:  0.39596\n",
    "F-score:   0.38566\n",
    "Precision: 0.40426\n",
    "Recall:    0.39033\n",
    "{'learning_rate': 0.21703389812478247, 'max_depth': 9, 'n_estimators': 102, 'reg_alpha': 0.689362851255999}"
   ]
  },
  {
   "cell_type": "code",
   "execution_count": null,
   "id": "88c3ee98-2b84-4a92-b9f2-6fdd0d5ed080",
   "metadata": {},
   "outputs": [],
   "source": [
    "tune_search5.best_estimator_.save_model(\"rf3.json\")\n",
    "print(tune_search5.best_estimator_)"
   ]
  },
  {
   "cell_type": "code",
   "execution_count": null,
   "id": "bcfc04c7-02c5-4673-9cfd-c2eed123e407",
   "metadata": {},
   "outputs": [],
   "source": [
    "plt.rcParams['figure.figsize'] = (10, 8)\n",
    "xgb.plot_importance(tune_search5.best_estimator_, importance_type = 'weight', max_num_features = 10)"
   ]
  },
  {
   "cell_type": "code",
   "execution_count": null,
   "id": "4a87821a-9ba7-45c2-b972-3b15037783b7",
   "metadata": {},
   "outputs": [],
   "source": [
    "plt.rcParams['figure.figsize'] = (20, 80)\n",
    "xgb.plot_tree(tune_search5.best_estimator_)"
   ]
  },
  {
   "cell_type": "markdown",
   "id": "a84fcd6a-195f-48fa-879f-466c3eee4fd2",
   "metadata": {},
   "source": [
    "### Standard Data, Boosted Classification"
   ]
  },
  {
   "cell_type": "code",
   "execution_count": null,
   "id": "9008a50a-9574-42b4-91cb-3159fe3374b6",
   "metadata": {
    "tags": []
   },
   "outputs": [],
   "source": [
    "Xcat = model_data_catpred.loc[~model_data_catpred['dist_mi'].isna(), :].drop('dist_mi', axis = 1)\n",
    "ycat = model_data_catpred.loc[~model_data_catpred['dist_mi'].isna(), 'dist_mi']\n",
    "Xcat_train, Xcat_test, ycat_train, ycat_test = train_test_split(Xcat, ycat, test_size = 0.2, random_state = 1000)\n",
    "\n",
    "param_distributions = {\n",
    "    'learning_rate': uniform(0,   0.04), \n",
    "    'max_depth':     randint(3,   5), \n",
    "    'n_estimators':  randint(175, 325), \n",
    "    'reg_alpha':     uniform(0.1, 0.9)\n",
    "}\n",
    "\n",
    "reg_xgb2 = xgb.XGBClassifier(tree_method = 'gpu_hist',      enable_categorical = True, \\\n",
    "                             predictor   = 'gpu_predictor', random_state       = 1000, \\\n",
    "                             objective   = 'mlogloss')\n",
    "\n",
    "tune_search6 = TuneSearchCV(reg_xgb2, param_distributions, use_gpu = True, \\\n",
    "                            n_trials = 100, verbose = 2, time_budget_s = 1200)\n",
    "tune_search6.fit(Xcat_train, ycat_train)\n",
    "\n",
    "reg_xgb2_pred   = tune_search6.predict(Xcat_test)\n",
    "reg_xgb2_params = tune_search6.best_params_\n",
    "\n",
    "## metrics\n",
    "reg_xgb2_acc = accuracy_score(ycat_test,  reg_xgb2_pred, normalize = True)\n",
    "reg_xgb2_f1  = f1_score(ycat_test,        reg_xgb2_pred, average   = 'macro')\n",
    "reg_xgb2_pre = precision_score(ycat_test, reg_xgb2_pred, average   = 'macro')\n",
    "reg_xgb2_rec = recall_score(ycat_test,    reg_xgb2_pred, average   = 'macro')\n",
    "\n",
    "print(\"Accuracy:  {:.5f}\".format(reg_xgb2_acc))\n",
    "print(\"F-score:   {:.5f}\".format(reg_xgb2_f1))\n",
    "print(\"Precision: {:.5f}\".format(reg_xgb2_pre))\n",
    "print(\"Recall:    {:.5f}\".format(reg_xgb2_rec))"
   ]
  },
  {
   "cell_type": "code",
   "execution_count": null,
   "id": "c975dbcb-32f6-44f9-a3df-d14fade0680b",
   "metadata": {},
   "outputs": [],
   "source": [
    "Xcat = model_data_catpred.loc[~model_data_catpred['dist_mi'].isna(), :].drop('dist_mi', axis = 1)\n",
    "ycat = model_data_catpred.loc[~model_data_catpred['dist_mi'].isna(), 'dist_mi']\n",
    "Xcat_train, Xcat_test, ycat_train, ycat_test = train_test_split(Xcat, ycat, test_size = 0.2, random_state = 1000)\n",
    "\n",
    "reg_xgb2 = xgb.XGBClassifier(learning_rate=0.026041765769964, n_estimators=196, n_jobs=16, max_depth=4, \\\n",
    "                             predictor='gpu_predictor', random_state=1000, reg_alpha=0.9384038232797361, \\\n",
    "                             tree_method='gpu_hist')\n",
    "reg_xgb2.fit(Xcat_train, ycat_train)\n",
    "reg_xgb2_pred = reg_xgb2.predict(Xcat_test)\n",
    "print(\"Accuracy:  {:.5f}\".format(accuracy_score(ycat_test,  reg_xgb2, normalize = True)))\n",
    "print(\"F-score:   {:.5f}\".format(f1_score(ycat_test,        reg_xgb2, average   = 'macro')))\n",
    "print(\"Precision: {:.5f}\".format(precision_score(ycat_test, reg_xgb2, average   = 'macro')))\n",
    "print(\"Recall:    {:.5f}\".format(recall_score(ycat_test,    reg_xgb2, average   = 'macro')))\n",
    "reg_xgb2.save_model(\"reg2.json\")"
   ]
  },
  {
   "cell_type": "raw",
   "id": "b21790a0-f20d-4409-bfa1-b34c1990bacb",
   "metadata": {},
   "source": [
    "# Current best trial: 00445_00000 with average_test_score=0.6678066914498141 \n",
    "# parameters={'learning_rate': 0.7071801229293614, 'max_depth': 9, 'n_estimators': 498, 'reg_alpha': 0.25340010157495807}\n",
    "# Current best trial: 00445_00001 with average_test_score=0.6682527881040892 \n",
    "# parameters={'learning_rate': 0.38974729338055036, 'max_depth': 5, 'n_estimators': 304, 'reg_alpha': 0.9744671550174248}\n",
    "# Current best trial: 00445_00005 with average_test_score=0.684460966542751 \n",
    "# parameters={'learning_rate': 0.0374328145121835, 'max_depth': 7, 'n_estimators': 210, 'reg_alpha': 0.2127663617960739}\n",
    "# Current best trial: 719b7_00026 with average_test_score=0.6892193308550187 \n",
    "# parameters={'learning_rate': 0.026041765769964, 'max_depth': 4, 'n_estimators': 196, 'reg_alpha': 0.9384038232797361}"
   ]
  },
  {
   "cell_type": "code",
   "execution_count": null,
   "id": "9a509b3b-cf06-4952-9bdb-aac538f6c143",
   "metadata": {},
   "outputs": [],
   "source": [
    "reg_xgb2_params"
   ]
  },
  {
   "cell_type": "code",
   "execution_count": null,
   "id": "dcf000bc-980e-4078-b442-0907bc062a2a",
   "metadata": {},
   "outputs": [],
   "source": [
    "tune_search6.best_estimator_.save_model(\"reg2.json\")\n",
    "print(tune_search6.best_estimator_)"
   ]
  },
  {
   "cell_type": "code",
   "execution_count": null,
   "id": "86cfeb9c-6890-432a-a769-025c135dad48",
   "metadata": {},
   "outputs": [],
   "source": [
    "plt.rcParams['figure.figsize'] = (10, 8)\n",
    "xgb.plot_importance(tune_search6.best_estimator_, importance_type = 'weight', max_num_features = 10)"
   ]
  },
  {
   "cell_type": "code",
   "execution_count": null,
   "id": "84b6c587-5f04-4b94-965f-a2cad24cbdc7",
   "metadata": {},
   "outputs": [],
   "source": [
    "plt.rcParams['figure.figsize'] = (20, 80)\n",
    "xgb.plot_tree(tune_search6.best_estimator_)"
   ]
  },
  {
   "cell_type": "markdown",
   "id": "7e894ce4-373e-434f-ae4d-fc6f4bd0c42d",
   "metadata": {},
   "source": [
    "### KNN (k = 1) Imputed Data, Boosted Classification"
   ]
  },
  {
   "cell_type": "code",
   "execution_count": null,
   "id": "e464d4ec-fae4-4ef9-a486-41bade2dd14c",
   "metadata": {
    "tags": []
   },
   "outputs": [],
   "source": [
    "Xcatk = knn_impute_catpred.drop('dist_mi', axis = 1)\n",
    "ycatk = knn_impute_catpred['dist_mi']\n",
    "Xcatk_train, Xcatk_test, ycatk_train, ycatk_test = train_test_split(Xcatk, ycatk, test_size = 0.2, random_state = 1000)\n",
    "\n",
    "param_distributions = {\n",
    "    'learning_rate': uniform(0.3, 0.3), \n",
    "    'max_depth':     randint(8,   9), \n",
    "    'n_estimators':  randint(100, 35), \n",
    "    'reg_alpha':     uniform(0.0, 0.4)\n",
    "}\n",
    "\n",
    "reg_xgb3 = xgb.XGBClassifier(tree_method = 'gpu_hist',      enable_categorical = True, \\\n",
    "                              predictor  = 'gpu_predictor', random_state       = 1000, \\\n",
    "                              objective  = 'mlogloss')\n",
    "\n",
    "tune_search7 = TuneSearchCV(reg_xgb3, param_distributions, use_gpu = True, \\\n",
    "                            n_trials = 50, verbose = 2, time_budget_s = 1200)\n",
    "tune_search7.fit(Xcatk_train, ycatk_train)\n",
    "\n",
    "reg_xgb3_pred   = tune_search7.predict(Xcatk_test)\n",
    "reg_xgb3_params = tune_search7.best_params_\n",
    "\n",
    "## metrics\n",
    "reg_xgb3_acc = accuracy_score(ycatk_test,  reg_xgb3_pred, normalize = True)\n",
    "reg_xgb3_f1  = f1_score(ycatk_test,        reg_xgb3_pred, average   = 'macro')\n",
    "reg_xgb3_pre = precision_score(ycatk_test, reg_xgb3_pred, average   = 'macro')\n",
    "reg_xgb3_rec = recall_score(ycatk_test,    reg_xgb3_pred, average   = 'macro')\n",
    "\n",
    "print(\"Accuracy:  {:.5f}\".format(reg_xgb3_acc))\n",
    "print(\"F-score:   {:.5f}\".format(reg_xgb3_f1))\n",
    "print(\"Precision: {:.5f}\".format(reg_xgb3_pre))\n",
    "print(\"Recall:    {:.5f}\".format(reg_xgb3_rec))"
   ]
  },
  {
   "cell_type": "code",
   "execution_count": null,
   "id": "6b7c4697-ffc7-4302-a337-bb7990ed6d21",
   "metadata": {},
   "outputs": [],
   "source": [
    "Xcatk = knn_impute_catpred.drop('dist_mi', axis = 1)\n",
    "ycatk = knn_impute_catpred['dist_mi']\n",
    "Xcatk_train, Xcatk_test, ycatk_train, ycatk_test = train_test_split(Xcatk, ycatk, test_size = 0.2, random_state = 1000)\n",
    "\n",
    "reg_xgb3 = xgb.XGBClassifier(learning_rate=0.37015426893640047, n_estimators=123, n_jobs=16, max_depth=9, \\\n",
    "                             predictor='gpu_predictor', random_state=1000, reg_alpha=0.09465784839517966, \\\n",
    "                             tree_method='gpu_hist')\n",
    "reg_xgb3.fit(Xcatk_test, ycatk_test)\n",
    "reg_xgb3_pred = reg_xgb3.predict(Xcatk_test)\n",
    "print(\"Accuracy:  {:.5f}\".format(accuracy_score(ycatk_test,  reg_xgb3_pred, normalize = True)))\n",
    "print(\"F-score:   {:.5f}\".format(f1_score(ycatk_test,        reg_xgb3_pred, average   = 'macro')))\n",
    "print(\"Precision: {:.5f}\".format(precision_score(ycatk_test, reg_xgb3_pred, average   = 'macro')))\n",
    "print(\"Recall:    {:.5f}\".format(recall_score(ycatk_test,    reg_xgb3_pred, average   = 'macro')))\n",
    "reg_xgb3.save_model(\"reg3.json\")"
   ]
  },
  {
   "cell_type": "raw",
   "id": "4b72acb3-39a2-4b7a-9cf2-df8e8df6851a",
   "metadata": {},
   "source": [
    "# Current best trial: 77cc7_00002 with average_test_score=0.43494423791821557 \n",
    "# parameters={'learning_rate': 0.5352650404100339, 'max_depth': 9, 'n_estimators': 221, 'reg_alpha': 0.9972517663463557}\n",
    "# Current best trial: 77cc7_00017 with average_test_score=0.43702602230483273 \n",
    "# parameters={'learning_rate': 0.5828696708808235, 'max_depth': 8, 'n_estimators': 310, 'reg_alpha': 0.30672269410350306}\n",
    "# Current best trial: 77cc7_00038 with average_test_score=0.43717472118959105 \n",
    "# parameters={'learning_rate': 0.37015426893640047, 'max_depth': 9, 'n_estimators': 123, 'reg_alpha': 0.09465784839517966}"
   ]
  },
  {
   "cell_type": "code",
   "execution_count": null,
   "id": "a62a74a9-2fbc-44cb-a901-cb052370da2c",
   "metadata": {},
   "outputs": [],
   "source": [
    "rf_xgb3_params"
   ]
  },
  {
   "cell_type": "code",
   "execution_count": null,
   "id": "a421e011-fd42-42a9-a17d-9ce837c4b813",
   "metadata": {},
   "outputs": [],
   "source": [
    "tune_search7.best_estimator_.save_model(\"reg3.json\")\n",
    "print(tune_search7.best_estimator_)"
   ]
  },
  {
   "cell_type": "code",
   "execution_count": null,
   "id": "761c5a8e-038e-48d0-83fa-99bfaa56d14c",
   "metadata": {},
   "outputs": [],
   "source": [
    "plt.rcParams['figure.figsize'] = (10, 8)\n",
    "xgb.plot_importance(tune_search7.best_estimator_, importance_type = 'weight', max_num_features = 10)"
   ]
  },
  {
   "cell_type": "code",
   "execution_count": null,
   "id": "919d1fa9-78da-43f0-ad48-abf94bb90538",
   "metadata": {},
   "outputs": [],
   "source": [
    "plt.rcParams['figure.figsize'] = (20, 80)\n",
    "xgb.plot_tree(tune_search7.best_estimator_)"
   ]
  },
  {
   "cell_type": "code",
   "execution_count": null,
   "id": "897b09c8-fc79-4137-a2be-45a923f3f434",
   "metadata": {},
   "outputs": [],
   "source": [
    "## subset where there is missing\n",
    "\n",
    "test_impute_data = model_data.copy()\n",
    "n_neighbors = [1, 2, 3, 5, 8, 10, 12]\n",
    "\n",
    "fig, ax = plt.subplots(figsize = (16, 8))\n",
    "# Plot the original distribution\n",
    "sns.kdeplot(model_data['temp_max'], label=\"Original Distribution\")\n",
    "for k in n_neighbors:\n",
    "    knn_imp = KNNImputer(n_neighbors = k)\n",
    "    test_impute_data.loc[:, :] = knn_imp.fit_transform(model_data)\n",
    "    sns.kdeplot(test_impute_data['temp_max'], label = f\"Imputed Dist with k={k}\")\n",
    "\n",
    "plt.legend();"
   ]
  },
  {
   "cell_type": "code",
   "execution_count": null,
   "id": "b5c55940-aa3f-44c8-95ca-db5a221e8986",
   "metadata": {},
   "outputs": [],
   "source": [
    "fig, ax = plt.subplots(figsize = (16, 8))\n",
    "for var in knn_impute_data.columns:\n",
    "    sns.kdeplot(test_impute_data[var], label = f\"Imputed Dist for var={var}\")\n",
    "plt.xlim((-3, 3))\n",
    "plt.ylim((0, 10))\n",
    "plt.legend();"
   ]
  },
  {
   "cell_type": "code",
   "execution_count": null,
   "id": "a141d7cc-a1a8-45d3-952c-e1d9d783a0ad",
   "metadata": {},
   "outputs": [],
   "source": [
    "fig, ax = plt.subplots(figsize = (16, 8))\n",
    "for var in model_data.columns:\n",
    "    sns.kdeplot(model_data[var], label = f\"Original Dist for var={var}\")\n",
    "plt.xlim((-3, 3))\n",
    "plt.ylim((0, 10))\n",
    "plt.legend();"
   ]
  },
  {
   "cell_type": "code",
   "execution_count": null,
   "id": "c938efe2-a69c-4f72-b262-d179a082317c",
   "metadata": {},
   "outputs": [],
   "source": []
  }
 ],
 "metadata": {
  "kernelspec": {
   "display_name": "Python 3 (ipykernel)",
   "language": "python",
   "name": "python3"
  },
  "language_info": {
   "codemirror_mode": {
    "name": "ipython",
    "version": 3
   },
   "file_extension": ".py",
   "mimetype": "text/x-python",
   "name": "python",
   "nbconvert_exporter": "python",
   "pygments_lexer": "ipython3",
   "version": "3.9.7"
  }
 },
 "nbformat": 4,
 "nbformat_minor": 5
}
